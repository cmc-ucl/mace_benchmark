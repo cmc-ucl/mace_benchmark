{
 "cells": [
  {
   "cell_type": "markdown",
   "metadata": {},
   "source": [
    "# Test the fine tuned model"
   ]
  },
  {
   "cell_type": "code",
   "execution_count": 81,
   "metadata": {},
   "outputs": [
    {
     "name": "stdout",
     "output_type": "stream",
     "text": [
      "The autoreload extension is already loaded. To reload it, use:\n",
      "  %reload_ext autoreload\n"
     ]
    }
   ],
   "source": [
    "%load_ext autoreload\n",
    "%reload_ext autoreload\n",
    "%autoreload 2\n",
    "\n",
    "from pymatgen.core.structure import Structure\n",
    "from pymatgen.symmetry.analyzer import SpacegroupAnalyzer\n",
    "from pymatgen.io.ase import AseAtomsAdaptor\n",
    "from ase.io import read\n",
    "from ase.data import chemical_symbols\n",
    "from ase.atoms import Atoms\n",
    "import copy\n",
    "import numpy as np\n",
    "import pandas as pd\n",
    "from scipy.constants import physical_constants\n",
    "from sklearn.metrics import mean_squared_error, root_mean_squared_error\n",
    "from scipy.stats import spearmanr, kendalltau\n",
    "\n",
    "import matplotlib.pyplot as plt\n",
    "\n",
    "import sys\n",
    "import os\n",
    "import json\n",
    "import re\n",
    "import shutil as sh\n",
    "\n",
    "from janus_core.calculations.single_point import SinglePoint\n",
    "from janus_core.calculations.geom_opt import GeomOpt\n",
    "\n",
    "current_dir = os.path.dirname(os.path.abspath(\"__file__\"))\n",
    "sys.path.append(current_dir)\n",
    "\n",
    "from structure_generation import get_all_configurations_pmg, write_extended_xyz, generate_random_structures, \\\n",
    "    write_CRYSTAL_gui_from_data\n",
    "\n",
    "from local_functions import lattice_params_to_matrix, get_errors, get_rankings"
   ]
  },
  {
   "cell_type": "markdown",
   "metadata": {},
   "source": [
    "### Single point example"
   ]
  },
  {
   "cell_type": "code",
   "execution_count": 13,
   "metadata": {},
   "outputs": [
    {
     "name": "stdout",
     "output_type": "stream",
     "text": [
      "Using float64 for MACECalculator, which is slower but more accurate. Recommended for geometry optimization.\n",
      "[-482438.0979418563, -482438.20363944303]\n"
     ]
    }
   ],
   "source": [
    "ase_structure = read('data/crystal/test_files/test_concatenated.xyz', index=\":\")\n",
    "sp_mace = SinglePoint(\n",
    "    struct=ase_structure.copy(),\n",
    "    arch=\"mace_mp\",\n",
    "    device=\"cpu\",\n",
    "    model_path=\"/Users/brunocamino/Desktop/UCL/mace_benchmark/models/fine_tuned/1000/AlGaN-medium-mpa-0.model\",\n",
    "    calc_kwargs={\"default_dtype\": \"float64\"},\n",
    "    properties=\"energy\",\n",
    ")\n",
    "\n",
    "init_energy = sp_mace.run()[\"energy\"]\n",
    "print(init_energy)"
   ]
  },
  {
   "cell_type": "code",
   "execution_count": 32,
   "metadata": {},
   "outputs": [
    {
     "name": "stdout",
     "output_type": "stream",
     "text": [
      "Using float64 for MACECalculator, which is slower but more accurate. Recommended for geometry optimization.\n",
      "-1483.705316803\n"
     ]
    }
   ],
   "source": [
    "ase_structure = Atoms('N',[[0.0, 0.0, 0.0]])\n",
    "sp_mace = SinglePoint(\n",
    "    struct=ase_structure.copy(),\n",
    "    arch=\"mace_mp\",\n",
    "    device=\"cpu\",\n",
    "    model_path=\"/Users/brunocamino/Desktop/UCL/mace_benchmark/models/fine_tuned/1000/AlGaN-medium-mpa-0.model\",\n",
    "    calc_kwargs={\"default_dtype\": \"float64\"},\n",
    "    properties=\"energy\",\n",
    ")\n",
    "\n",
    "init_energy = sp_mace.run()[\"energy\"]\n",
    "print(init_energy)"
   ]
  },
  {
   "cell_type": "markdown",
   "metadata": {},
   "source": [
    "### Geometry optimisation example"
   ]
  },
  {
   "cell_type": "code",
   "execution_count": null,
   "metadata": {},
   "outputs": [
    {
     "name": "stdout",
     "output_type": "stream",
     "text": [
      "Using float64 for MACECalculator, which is slower but more accurate. Recommended for geometry optimization.\n",
      "       Step     Time          Energy          fmax\n",
      "LBFGS:    0 17:57:50  -482438.097942        0.367193\n",
      "LBFGS:    1 17:57:52  -482438.104185        0.365492\n",
      "LBFGS:    2 17:57:54  -482438.320745        0.300169\n",
      "LBFGS:    3 17:57:56  -482438.494879        0.234136\n",
      "LBFGS:    4 17:57:58  -482438.625663        0.167811\n",
      "LBFGS:    5 17:58:00  -482438.712262        0.101658\n",
      "LBFGS:    6 17:58:02  -482438.754157        0.036178\n"
     ]
    }
   ],
   "source": [
    "ase_structure = read('data/crystal/AlGaN/super3/extxyz_files/AlGaN_super3_1_0_0.xyz')\n",
    "optimized_structure = GeomOpt(\n",
    "    struct=ase_structure.copy(),\n",
    "    arch=\"mace_mp\",\n",
    "    device=\"cpu\",\n",
    "    model_path=\"/Users/brunocamino/Desktop/UCL/mace_benchmark/models/fine_tuned/1000/AlGaN-medium-mpa-0.model\",\n",
    "    calc_kwargs={\"default_dtype\": \"float64\"},\n",
    "    fmax=0.001,\n",
    "    filter_kwargs={\"hydrostatic_strain\": True},\n",
    ")\n",
    "optimized_structure.run()"
   ]
  },
  {
   "cell_type": "code",
   "execution_count": null,
   "metadata": {},
   "outputs": [
    {
     "ename": "TypeError",
     "evalue": "len() of unsized object",
     "output_type": "error",
     "traceback": [
      "\u001b[0;31m---------------------------------------------------------------------------\u001b[0m",
      "\u001b[0;31mTypeError\u001b[0m                                 Traceback (most recent call last)",
      "Cell \u001b[0;32mIn[68], line 1\u001b[0m\n\u001b[0;32m----> 1\u001b[0m \u001b[43moptimized_structure\u001b[49m\u001b[38;5;241;43m.\u001b[39;49m\u001b[38;5;18;43m__dict__\u001b[39;49m\u001b[43m[\u001b[49m\u001b[38;5;124;43m'\u001b[39;49m\u001b[38;5;124;43mstruct\u001b[39;49m\u001b[38;5;124;43m'\u001b[39;49m\u001b[43m]\u001b[49m\u001b[43m[\u001b[49m\u001b[38;5;124;43m'\u001b[39;49m\u001b[38;5;124;43mdft_forces\u001b[39;49m\u001b[38;5;124;43m'\u001b[39;49m\u001b[43m]\u001b[49m\n",
      "File \u001b[0;32m~/miniconda3/envs/mace-test/lib/python3.11/site-packages/ase/atoms.py:1122\u001b[0m, in \u001b[0;36mAtoms.__getitem__\u001b[0;34m(self, i)\u001b[0m\n\u001b[1;32m   1120\u001b[0m \u001b[38;5;28;01melif\u001b[39;00m \u001b[38;5;129;01mnot\u001b[39;00m \u001b[38;5;28misinstance\u001b[39m(i, \u001b[38;5;28mslice\u001b[39m):\n\u001b[1;32m   1121\u001b[0m     i \u001b[38;5;241m=\u001b[39m np\u001b[38;5;241m.\u001b[39marray(i)\n\u001b[0;32m-> 1122\u001b[0m     \u001b[38;5;28;01mif\u001b[39;00m \u001b[38;5;28;43mlen\u001b[39;49m\u001b[43m(\u001b[49m\u001b[43mi\u001b[49m\u001b[43m)\u001b[49m \u001b[38;5;241m==\u001b[39m \u001b[38;5;241m0\u001b[39m:\n\u001b[1;32m   1123\u001b[0m         i \u001b[38;5;241m=\u001b[39m np\u001b[38;5;241m.\u001b[39marray([], dtype\u001b[38;5;241m=\u001b[39m\u001b[38;5;28mint\u001b[39m)\n\u001b[1;32m   1124\u001b[0m     \u001b[38;5;66;03m# if i is a mask\u001b[39;00m\n",
      "\u001b[0;31mTypeError\u001b[0m: len() of unsized object"
     ]
    }
   ],
   "source": []
  },
  {
   "cell_type": "markdown",
   "metadata": {},
   "source": [
    "### Compare energies DFT/MACE "
   ]
  },
  {
   "cell_type": "markdown",
   "metadata": {},
   "source": [
    "### mace-mpa-0-medium.model"
   ]
  },
  {
   "cell_type": "markdown",
   "metadata": {},
   "source": [
    "## I need to "
   ]
  },
  {
   "cell_type": "markdown",
   "metadata": {},
   "source": [
    "1000"
   ]
  },
  {
   "cell_type": "code",
   "execution_count": 37,
   "metadata": {},
   "outputs": [],
   "source": [
    "al_dft_energy = -6.589117430582E+03\n",
    "ga_dft_energy = -5.236806134899E+04\n",
    "n_dft_energy = -1.483705316803E+03\n",
    "\n",
    "al_mace_energy = -6589.117430582\n",
    "ga_mace_energy = -52368.06134899\n",
    "n_mace_energy = -1483.705316803\n",
    "\n",
    "num_sites = 54 # there are 54 anion and 54 cation sites"
   ]
  },
  {
   "cell_type": "code",
   "execution_count": 43,
   "metadata": {},
   "outputs": [],
   "source": [
    "energies = np.loadtxt(\"data/fine_tuning/1000/energies.csv\", delimiter=\",\", skiprows=1)\n",
    "\n",
    "# Extract the two columns separately\n",
    "dft_energies = energies[:, 0]  # First column\n",
    "mace_energies = energies[:, 1]  # Second column\n",
    "num_al = energies[:, 2]\n",
    "\n",
    "dft_energies_form = (dft_energies - (al_dft_energy*num_al + \n",
    "                                    ga_dft_energy*(num_sites-num_al) + n_dft_energy*num_sites))/num_sites\n",
    "\n",
    "mace_energies_form = (mace_energies - (al_mace_energy*num_al + \n",
    "                                    ga_mace_energy*(num_sites-num_al) + n_mace_energy*num_sites))/num_sites"
   ]
  },
  {
   "cell_type": "markdown",
   "metadata": {},
   "source": [
    "### Errors"
   ]
  },
  {
   "cell_type": "code",
   "execution_count": 82,
   "metadata": {},
   "outputs": [
    {
     "name": "stdout",
     "output_type": "stream",
     "text": [
      "MSE: 0.0004253196296340794\n",
      "RMSE: 0.020623278828403584\n",
      "Percentage MSE: 0.00029537918093394124 %\n",
      "Max Absolute Error: 0.0926661571375682\n",
      "Max Percentage Error: 0.7752914325951553 %\n"
     ]
    }
   ],
   "source": [
    "get_errors(dft_energies_form,mace_energies_form)"
   ]
  },
  {
   "cell_type": "markdown",
   "metadata": {},
   "source": [
    "### Ranking\n",
    "\n",
    "These are calculated over the whole range, so it doesn't capture the fine details of the ranking within a fixed composition."
   ]
  },
  {
   "cell_type": "code",
   "execution_count": 83,
   "metadata": {},
   "outputs": [
    {
     "name": "stdout",
     "output_type": "stream",
     "text": [
      "Spearman's Rank Correlation: 0.9996744918622967\n",
      "Kendall's Tau: 0.989145728643216\n"
     ]
    }
   ],
   "source": [
    "get_rankings(dft_energies_form,mace_energies_form)"
   ]
  },
  {
   "cell_type": "code",
   "execution_count": null,
   "metadata": {},
   "outputs": [],
   "source": []
  },
  {
   "cell_type": "markdown",
   "metadata": {},
   "source": [
    "### Parity plot"
   ]
  },
  {
   "cell_type": "code",
   "execution_count": 46,
   "metadata": {},
   "outputs": [
    {
     "data": {
      "image/png": "[encoded data removed]",
      "text/plain": [
       "<Figure size 500x500 with 1 Axes>"
      ]
     },
     "metadata": {},
     "output_type": "display_data"
    }
   ],
   "source": [
    "# Create the parity plot\n",
    "plt.figure(figsize=(5,5))\n",
    "plt.scatter(dft_energies_form, mace_energies_form, color='blue', alpha=0.6, label=\"Data Points\")\n",
    "\n",
    "# Plot the y = x reference line\n",
    "min_val = min(np.min(dft_energies_form), np.min(mace_energies_form))\n",
    "max_val = max(np.max(dft_energies_form), np.max(mace_energies_form))\n",
    "plt.plot([min_val, max_val], [min_val, max_val], color='red', linestyle='--', label=\"Perfect Agreement (y=x)\")\n",
    "\n",
    "# Labels and title\n",
    "plt.xlabel(\"DFT energies\")\n",
    "plt.ylabel(\"MACE energies\")\n",
    "plt.title(\"Parity Plot of Energies\")\n",
    "plt.legend()\n",
    "plt.grid(True)\n",
    "\n",
    "# Show the plot\n",
    "plt.show()"
   ]
  },
  {
   "cell_type": "markdown",
   "metadata": {},
   "source": [
    "### Simulated annealing"
   ]
  },
  {
   "cell_type": "code",
   "execution_count": null,
   "metadata": {},
   "outputs": [],
   "source": []
  },
  {
   "cell_type": "code",
   "execution_count": null,
   "metadata": {},
   "outputs": [],
   "source": []
  },
  {
   "cell_type": "code",
   "execution_count": null,
   "metadata": {},
   "outputs": [],
   "source": []
  }
 ],
 "metadata": {
  "kernelspec": {
   "display_name": "mace-test",
   "language": "python",
   "name": "python3"
  },
  "language_info": {
   "codemirror_mode": {
    "name": "ipython",
    "version": 3
   },
   "file_extension": ".py",
   "mimetype": "text/x-python",
   "name": "python",
   "nbconvert_exporter": "python",
   "pygments_lexer": "ipython3",
   "version": "3.11.10"
  }
 },
 "nbformat": 4,
 "nbformat_minor": 2
}
