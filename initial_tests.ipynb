{
 "cells": [
  {
   "cell_type": "markdown",
   "metadata": {},
   "source": [
    "# Benchmarking mace"
   ]
  },
  {
   "cell_type": "code",
   "execution_count": 39,
   "metadata": {},
   "outputs": [
    {
     "name": "stdout",
     "output_type": "stream",
     "text": [
      "The autoreload extension is already loaded. To reload it, use:\n",
      "  %reload_ext autoreload\n"
     ]
    }
   ],
   "source": [
    "%load_ext autoreload\n",
    "%reload_ext autoreload\n",
    "%autoreload 2\n",
    "\n",
    "from pymatgen.core.structure import Structure\n",
    "from pymatgen.symmetry.analyzer import SpacegroupAnalyzer\n",
    "from pymatgen.io.ase import AseAtomsAdaptor\n",
    "import copy\n",
    "import numpy as np\n",
    "\n",
    "import sys\n",
    "import os\n",
    "import json\n",
    "\n",
    "from janus_core.calculations.single_point import SinglePoint\n",
    "from janus_core.calculations.geom_opt import GeomOpt\n",
    "\n",
    "current_dir = os.path.dirname(os.path.abspath(\"__file__\"))\n",
    "sys.path.append(current_dir)\n",
    "\n",
    "from structure_generation import get_all_configurations_pmg, write_extended_xyz, generate_random_structures"
   ]
  },
  {
   "cell_type": "markdown",
   "metadata": {},
   "source": [
    "### AlGaN"
   ]
  },
  {
   "cell_type": "code",
   "execution_count": 2,
   "metadata": {},
   "outputs": [
    {
     "name": "stderr",
     "output_type": "stream",
     "text": [
      "/Users/brunocamino/miniconda3/envs/mace-test/lib/python3.11/site-packages/pymatgen/io/cif.py:1290: UserWarning: Issues encountered while parsing CIF: 8 fractional coordinates rounded to ideal values to avoid issues with finite precision.\n",
      "  warnings.warn(\"Issues encountered while parsing CIF: \" + \"\\n\".join(self.warnings))\n"
     ]
    },
    {
     "data": {
      "text/plain": [
       "108"
      ]
     },
     "execution_count": 2,
     "metadata": {},
     "output_type": "execute_result"
    }
   ],
   "source": [
    "AlN_bulk = Structure.from_file('data/bulk_structures/AlN.cif')\n",
    "\n",
    "supercell_matrix = np.eye(3)*3\n",
    "\n",
    "AlN_super3 = copy.deepcopy(AlN_bulk)\n",
    "\n",
    "AlN_super3.make_supercell(supercell_matrix)\n",
    "\n",
    "AlN_super3.num_sites"
   ]
  },
  {
   "cell_type": "code",
   "execution_count": 3,
   "metadata": {},
   "outputs": [],
   "source": [
    "# atom_indices_aln = get_all_configurations_pmg(AlN_super3)\n",
    "# np.savetxt('data/symmetry/aln_108_atom_indices.csv',atom_indices_aln,delimiter=',',fmt='%s')"
   ]
  },
  {
   "cell_type": "code",
   "execution_count": 40,
   "metadata": {},
   "outputs": [],
   "source": [
    "atom_indices_aln = np.genfromtxt('data/symmetry/aln_108_atom_indices.csv',delimiter=',').astype('int')"
   ]
  },
  {
   "cell_type": "code",
   "execution_count": 30,
   "metadata": {},
   "outputs": [],
   "source": [
    "active_sites=np.where(np.array(AlN_super3.atomic_numbers) == 13)[0]\n",
    "num_active_sites=len(active_sites)\n",
    "\n",
    "N_atom = 31\n",
    "\n",
    "all_config_atom_number = {}\n",
    "\n",
    "for n,N_atoms in enumerate(np.arange(1,54)):\n",
    "\n",
    "    structures_random = generate_random_structures(AlN_super3,atom_indices=atom_indices_aln,\n",
    "                                                   N_atoms=N_atoms,new_species=31,N_config=500,\n",
    "                                                   DFT_config=20,active_sites=active_sites)\n",
    "\n",
    "    atom_number_tmp = []\n",
    "    for structure in structures_random:\n",
    "        atom_number_tmp.append(list(structure.atomic_numbers))\n",
    "\n",
    "    all_config_atom_number[str(N_atoms)] = atom_number_tmp\n",
    "\n",
    "# with open('data/supercell_structures/AlGaN/AlGaN_super3.json', 'w') as json_file:\n",
    "#     json.dump(all_config_atom_number, json_file)"
   ]
  },
  {
   "cell_type": "code",
   "execution_count": 41,
   "metadata": {},
   "outputs": [],
   "source": [
    "with open('data/supercell_structures/AlGaN/AlGaN_super3.json', 'r', encoding='utf-8') as json_file:\n",
    "    AlGaN_super3_all_config = json.load(json_file)\n"
   ]
  },
  {
   "cell_type": "code",
   "execution_count": null,
   "metadata": {},
   "outputs": [],
   "source": [
    "# Generate the Extended XYZ files\n",
    "\n",
    "lattice = AlN_super3.lattice.matrix\n",
    "positions = AlN_super3.frac_coords\n",
    "for N_atoms in AlGaN_super3_all_config.keys():\n",
    "    \n",
    "    folder_name = f'data/supercell_structures/AlGaN/AlGaN_super3_{N_atoms}'\n",
    "    if not os.path.exists(folder_name):\n",
    "        os.makedirs(folder_name)\n",
    "    \n",
    "    for i,config in enumerate(AlGaN_super3_all_config[N_atoms]):\n",
    "        structure = Structure(lattice,config,positions)\n",
    "\n",
    "        write_extended_xyz(structure,os.path.join(folder_name,f'AlGaN_super3_{N_atoms}_{i}.xyz'))"
   ]
  },
  {
   "cell_type": "markdown",
   "metadata": {},
   "source": [
    "## mace geometry optimisation"
   ]
  },
  {
   "cell_type": "code",
   "execution_count": null,
   "metadata": {},
   "outputs": [],
   "source": [
    "def mace_geom_opt(atoms):\n",
    "\n",
    "    atoms_sp = SinglePoint(\n",
    "        struct=atoms.copy(),\n",
    "        arch=\"mace_mp\",\n",
    "        device='cpu',\n",
    "        calc_kwargs={'model_paths':'small','default_dtype':'float64'},\n",
    "    )\n",
    "\n",
    "    atoms_opt = GeomOpt(\n",
    "        struct=atoms_sp.struct,\n",
    "        fmax=0.001,\n",
    "    )\n",
    "\n",
    "    atoms_opt.run()\n",
    "\n",
    "    return atoms_opt"
   ]
  },
  {
   "cell_type": "code",
   "execution_count": null,
   "metadata": {},
   "outputs": [],
   "source": []
  }
 ],
 "metadata": {
  "kernelspec": {
   "display_name": "mace-test",
   "language": "python",
   "name": "python3"
  },
  "language_info": {
   "codemirror_mode": {
    "name": "ipython",
    "version": 3
   },
   "file_extension": ".py",
   "mimetype": "text/x-python",
   "name": "python",
   "nbconvert_exporter": "python",
   "pygments_lexer": "ipython3",
   "version": "3.11.10"
  }
 },
 "nbformat": 4,
 "nbformat_minor": 2
}
