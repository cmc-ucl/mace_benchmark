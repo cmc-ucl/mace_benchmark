{
 "cells": [
  {
   "cell_type": "markdown",
   "metadata": {},
   "source": [
    "# Benchmarking mace"
   ]
  },
  {
   "cell_type": "code",
   "execution_count": 39,
   "metadata": {},
   "outputs": [
    {
     "name": "stdout",
     "output_type": "stream",
     "text": [
      "The autoreload extension is already loaded. To reload it, use:\n",
      "  %reload_ext autoreload\n"
     ]
    }
   ],
   "source": [
    "%load_ext autoreload\n",
    "%reload_ext autoreload\n",
    "%autoreload 2\n",
    "\n",
    "from pymatgen.core.structure import Structure\n",
    "from pymatgen.symmetry.analyzer import SpacegroupAnalyzer\n",
    "from pymatgen.io.ase import AseAtomsAdaptor\n",
    "import copy\n",
    "import numpy as np\n",
    "import pandas as pd\n",
    "\n",
    "import sys\n",
    "import os\n",
    "import json\n",
    "import shutil as sh\n",
    "\n",
    "from janus_core.calculations.single_point import SinglePoint\n",
    "from janus_core.calculations.geom_opt import GeomOpt\n",
    "\n",
    "current_dir = os.path.dirname(os.path.abspath(\"__file__\"))\n",
    "sys.path.append(current_dir)\n",
    "\n",
    "from structure_generation import get_all_configurations_pmg, write_extended_xyz, generate_random_structures, \\\n",
    "    write_CRYSTAL_gui_from_data"
   ]
  },
  {
   "cell_type": "markdown",
   "metadata": {},
   "source": [
    "### AlGaN"
   ]
  },
  {
   "cell_type": "code",
   "execution_count": 2,
   "metadata": {},
   "outputs": [
    {
     "name": "stderr",
     "output_type": "stream",
     "text": [
      "/Users/brunocamino/miniconda3/envs/mace-test/lib/python3.11/site-packages/pymatgen/io/cif.py:1290: UserWarning: Issues encountered while parsing CIF: 8 fractional coordinates rounded to ideal values to avoid issues with finite precision.\n",
      "  warnings.warn(\"Issues encountered while parsing CIF: \" + \"\\n\".join(self.warnings))\n"
     ]
    },
    {
     "data": {
      "text/plain": [
       "108"
      ]
     },
     "execution_count": 2,
     "metadata": {},
     "output_type": "execute_result"
    }
   ],
   "source": [
    "AlN_bulk = Structure.from_file('data/bulk_structures/AlN.cif')\n",
    "\n",
    "supercell_matrix = np.eye(3)*3\n",
    "\n",
    "AlN_super3 = copy.deepcopy(AlN_bulk)\n",
    "\n",
    "AlN_super3.make_supercell(supercell_matrix)\n",
    "\n",
    "AlN_super3.num_sites"
   ]
  },
  {
   "cell_type": "code",
   "execution_count": 3,
   "metadata": {},
   "outputs": [
    {
     "data": {
      "text/plain": [
       "108"
      ]
     },
     "execution_count": 3,
     "metadata": {},
     "output_type": "execute_result"
    }
   ],
   "source": [
    "GaN_bulk = Structure.from_file('data/bulk_structures/GaN.cif')\n",
    "\n",
    "supercell_matrix = np.eye(3)*3\n",
    "\n",
    "GaN_super3 = copy.deepcopy(GaN_bulk)\n",
    "\n",
    "GaN_super3.make_supercell(supercell_matrix)\n",
    "\n",
    "GaN_super3.num_sites"
   ]
  },
  {
   "cell_type": "code",
   "execution_count": 3,
   "metadata": {},
   "outputs": [],
   "source": [
    "# atom_indices_aln = get_all_configurations_pmg(AlN_super3)\n",
    "# np.savetxt('data/symmetry/aln_108_atom_indices.csv',atom_indices_aln,delimiter=',',fmt='%s')"
   ]
  },
  {
   "cell_type": "code",
   "execution_count": 5,
   "metadata": {},
   "outputs": [],
   "source": [
    "atom_indices_aln = np.genfromtxt('data/symmetry/aln_108_atom_indices.csv',delimiter=',').astype('int')"
   ]
  },
  {
   "cell_type": "code",
   "execution_count": null,
   "metadata": {},
   "outputs": [],
   "source": [
    "active_sites=np.where(np.array(AlN_super3.atomic_numbers) == 13)[0]\n",
    "num_active_sites=len(active_sites)\n",
    "\n",
    "N_atom = 31\n",
    "\n",
    "all_config_atom_number = {}\n",
    "\n",
    "for n,N_atoms in enumerate(np.arange(1,54)):\n",
    "\n",
    "    structures_random = generate_random_structures(AlN_super3,atom_indices=atom_indices_aln,\n",
    "                                                   N_atoms=N_atoms,new_species=31,N_config=500,\n",
    "                                                   DFT_config=20,active_sites=active_sites)\n",
    "\n",
    "    atom_number_tmp = []\n",
    "    for structure in structures_random:\n",
    "        atom_number_tmp.append(list(structure.atomic_numbers))\n",
    "\n",
    "    all_config_atom_number[str(N_atoms)] = atom_number_tmp\n",
    "\n",
    "# with open('data/supercell_structures/AlGaN/AlGaN_super3.json', 'w') as json_file:\n",
    "#     json.dump(all_config_atom_number, json_file)"
   ]
  },
  {
   "cell_type": "code",
   "execution_count": 6,
   "metadata": {},
   "outputs": [],
   "source": [
    "with open('data/supercell_structures/AlGaN/AlGaN_super3.json', 'r', encoding='utf-8') as json_file:\n",
    "    AlGaN_super3_all_config = json.load(json_file)\n"
   ]
  },
  {
   "cell_type": "code",
   "execution_count": null,
   "metadata": {},
   "outputs": [],
   "source": [
    "# Generate the Extended XYZ files\n",
    "\n",
    "lattice = AlN_super3.lattice.matrix\n",
    "positions = AlN_super3.frac_coords\n",
    "for N_atoms in AlGaN_super3_all_config.keys():\n",
    "    \n",
    "    folder_name = f'data/supercell_structures/AlGaN/AlGaN_super3_{N_atoms}'\n",
    "    if not os.path.exists(folder_name):\n",
    "        os.makedirs(folder_name)\n",
    "    \n",
    "    for i,config in enumerate(AlGaN_super3_all_config[N_atoms]):\n",
    "        structure = Structure(lattice,config,positions)\n",
    "\n",
    "        write_extended_xyz(structure,os.path.join(folder_name,f'AlGaN_super3_{N_atoms}_{i}.xyz'))"
   ]
  },
  {
   "cell_type": "markdown",
   "metadata": {},
   "source": [
    "### Write CRYSTAL input files"
   ]
  },
  {
   "cell_type": "code",
   "execution_count": null,
   "metadata": {},
   "outputs": [],
   "source": [
    "def generate_slurm_file(file_names_list, project_code='e05-algor-smw'):\n",
    "\n",
    "    bash_script = [\n",
    "    '#!/bin/bash\\n',\n",
    "    f'#SBATCH --nodes={len(file_names_list)}\\n',\n",
    "    '#SBATCH --ntasks-per-node=128\\n',\n",
    "    '#SBATCH --cpus-per-task=1\\n',\n",
    "    '#SBATCH --time=24:00:00\\n\\n',\n",
    "    '# Replace [budget code] below with your full project code\\n',\n",
    "    f'#SBATCH --account={project_code}\\n',\n",
    "    '#SBATCH --partition=standard\\n',\n",
    "    '#SBATCH --qos=standard\\n',\n",
    "    '#SBATCH --export=none\\n\\n',\n",
    "    'module load epcc-job-env\\n',\n",
    "    'module load other-software\\n',\n",
    "    'module load crystal\\n\\n',\n",
    "    '# Address the memory leak\\n',\n",
    "    'export FI_MR_CACHE_MAX_COUNT=0\\n',\n",
    "    'export SLURM_CPU_FREQ_REQ=2250000\\n\\n',\n",
    "    '# Run calculations\\n'\n",
    "]\n",
    "\n",
    "    for file in file_names_list:\n",
    "        bash_script.append(f'timeout 1430m /work/e05/e05/bcamino/runCRYSTAL/Pcry_slurm_multi {file[:-4]} &\\n')\n",
    "\n",
    "    bash_script.append('wait')\n",
    "\n",
    "    return bash_script\n",
    "    \n",
    "\n"
   ]
  },
  {
   "cell_type": "code",
   "execution_count": 75,
   "metadata": {},
   "outputs": [],
   "source": [
    "AlN_lattice_matrix = np.round(AlN_super3.lattice.matrix[0:3], 6)\n",
    "GaN_lattice_matrix = np.round(GaN_super3.lattice.matrix[0:3], 6)\n",
    "\n",
    "AlGaN_lattice_matrix = (AlN_lattice_matrix + GaN_lattice_matrix)/2"
   ]
  },
  {
   "cell_type": "code",
   "execution_count": null,
   "metadata": {},
   "outputs": [],
   "source": [
    "from structure_generation import write_CRYSTAL_gui_from_data\n",
    "\n",
    "\n",
    "lattice_matrix = AlGaN_lattice_matrix\n",
    "cart_coords = np.round(AlN_super3.cart_coords,8)\n",
    "\n",
    "\n",
    "for N_atoms in AlGaN_super3_all_config.keys():\n",
    "    \n",
    "    for i,config in enumerate(AlGaN_super3_all_config[N_atoms]):\n",
    "\n",
    "        atomic_numbers = config\n",
    "\n",
    "        folder_name = f'data/crystal/AlGaN/super3/config_{i}/'\n",
    "        file_name = f'AlGaN_super3_{N_atoms}_{i}_0.gui'\n",
    "        full_name = os.path.join(folder_name,file_name)\n",
    "        if not os.path.exists(folder_name):\n",
    "            os.makedirs(folder_name)\n",
    "        \n",
    "        for i,config in enumerate(AlGaN_super3_all_config[N_atoms]):\n",
    "            structure = Structure(lattice_matrix,config,cart_coords)\n",
    "\n",
    "            write_CRYSTAL_gui_from_data(lattice_matrix,atomic_numbers,\n",
    "                                cart_coords, full_name, dimensionality = 3)\n"
   ]
  },
  {
   "cell_type": "code",
   "execution_count": 9,
   "metadata": {},
   "outputs": [],
   "source": [
    "folder_path = 'data/crystal/AlGaN/super3/'\n",
    "\n",
    "folders = [name for name in os.listdir(folder_path) if os.path.isdir(os.path.join(folder_path, name))]\n",
    "\n",
    "for folder in folders:\n",
    "\n",
    "    folder_path_new = os.path.join(folder_path,folder)\n",
    "    slurm_file_name = os.path.join(folder_path_new,f'{folder}_0.slurm')\n",
    "    files = [name for name in os.listdir(folder_path_new) \n",
    "         if os.path.isfile(os.path.join(folder_path_new, name)) and name.endswith('.gui')]\n",
    "\n",
    "    # copy .d12\n",
    "    for file in files:\n",
    "        input_file = os.path.join(folder_path_new,f'{file[:-4]}.d12')\n",
    "        sh.copy('data/crystal/AlGaN/super3/super3_input.d12', input_file)\n",
    "\n",
    "    bash_script = generate_slurm_file(files)\n",
    "    with open(slurm_file_name, 'w') as file:\n",
    "        for line in bash_script:\n",
    "            file.write(f\"{line}\")\n",
    "\n"
   ]
  },
  {
   "cell_type": "code",
   "execution_count": null,
   "metadata": {},
   "outputs": [],
   "source": []
  },
  {
   "cell_type": "markdown",
   "metadata": {},
   "source": [
    "### Read CRYSTAL output files"
   ]
  },
  {
   "cell_type": "code",
   "execution_count": null,
   "metadata": {},
   "outputs": [],
   "source": [
    "with open('data/crystal/AlGaN/super3/output_files/AlGaN_super3_1_0_0.out', 'r') as f:\n",
    "    file_content = f.readlines()"
   ]
  },
  {
   "cell_type": "code",
   "execution_count": 65,
   "metadata": {},
   "outputs": [],
   "source": [
    "def parse_extended_xyz(file_content, num_atoms):\n",
    "    \"\"\"\n",
    "    Parse the file to extract structures, converting lattice parameters to a 3x3 matrix and including Cartesian coordinates.\n",
    "    \n",
    "    Parameters:\n",
    "        file_content (list of str): Lines of the file to parse.\n",
    "        num_atoms (int): Number of atoms per structure.\n",
    "    \n",
    "    Returns:\n",
    "        list of dict: Extracted data for each structure, including fractional coordinates, Cartesian coordinates, lattice matrix, energy (eV), forces, and stress.\n",
    "    \"\"\"\n",
    "    # Helper function to extract floats from a string (handles scientific notation)\n",
    "    def extract_floats(line):\n",
    "        return list(map(float, re.findall(r\"[-+]?\\d*\\.\\d+(?:[Ee][-+]?\\d+)?\", line)))\n",
    "\n",
    "    results = []\n",
    "    structure_data = {}\n",
    "\n",
    "    for i, line in enumerate(file_content):\n",
    "        line = line.strip()\n",
    "\n",
    "        # Lattice parameters\n",
    "        if \"ATOM                 X/A                 Y/B                 Z/C\" in line:\n",
    "            lattice_params = extract_floats(file_content[i - 3])\n",
    "            if len(lattice_params) == 6:\n",
    "                a, b, c, alpha, beta, gamma = lattice_params\n",
    "                structure_data['lattice_matrix'] = lattice_params_to_matrix(a, b, c, alpha, beta, gamma)\n",
    "\n",
    "        # Fractional coordinates\n",
    "        if \"ATOM                 X/A                 Y/B                 Z/C\" in line:\n",
    "            start = i + 2\n",
    "            structure_data['fractional_coordinates'] = [\n",
    "                extract_floats(file_content[start + j])\n",
    "                for j in range(num_atoms)\n",
    "            ]\n",
    "\n",
    "            # Calculate Cartesian coordinates\n",
    "            fractional_coords = structure_data['fractional_coordinates']\n",
    "            lattice_matrix = structure_data['lattice_matrix']\n",
    "            structure_data['cartesian_coordinates'] = [\n",
    "                np.dot(coord, lattice_matrix) for coord in fractional_coords\n",
    "            ]\n",
    "\n",
    "        # Energy\n",
    "        if \"== SCF ENDED - CONVERGENCE ON ENERGY      E(AU)\" in line:\n",
    "            energy_hartree = extract_floats(line)[0]\n",
    "            structure_data['energy_ev'] = energy_hartree * HARTREE_TO_EV\n",
    "\n",
    "        # Forces\n",
    "        if \"CARTESIAN FORCES IN HARTREE/BOHR (ANALYTICAL)\" in line:\n",
    "            start = i + 2\n",
    "            structure_data['forces'] = [\n",
    "                extract_floats(file_content[start + j])\n",
    "                for j in range(num_atoms)\n",
    "            ]\n",
    "\n",
    "        # Stress tensor\n",
    "        if \"STRESS TENSOR, IN HARTREE/BOHR^3:\" in line:\n",
    "            start = i + 4\n",
    "            structure_data['stress'] = [\n",
    "                extract_floats(file_content[start + j])\n",
    "                for j in range(3)\n",
    "            ]\n",
    "\n",
    "        # Store the structure if all required fields are found\n",
    "        if all(key in structure_data for key in ['lattice_matrix', 'fractional_coordinates', 'cartesian_coordinates', 'energy_ev', 'forces', 'stress']):\n",
    "            results.append(structure_data.copy())\n",
    "            structure_data = {}  # Reset for the next structure\n",
    "\n",
    "    return results"
   ]
  },
  {
   "cell_type": "code",
   "execution_count": 66,
   "metadata": {},
   "outputs": [],
   "source": [
    "num_atoms = 108  \n",
    "# Parse the file and extract structures with lattice matrix conversion\n",
    "parsed_structures_matrix = parse_extended_xyz(file_content, num_atoms)\n",
    "\n",
    "# Convert to DataFrame for inspection\n",
    "df_structures_matrix = pd.DataFrame(parsed_structures_matrix)"
   ]
  },
  {
   "cell_type": "code",
   "execution_count": 68,
   "metadata": {},
   "outputs": [
    {
     "data": {
      "text/plain": [
       "lattice_matrix            [[9.476278, 0.0, 0.0], [-4.738138933233883, 8....\n",
       "fractional_coordinates    [[0.2200996653749, 0.1100498775573, 0.16356962...\n",
       "cartesian_coordinates     [[1.5642940073476619, 0.9031460038402501, 2.50...\n",
       "energy_ev                                                    -482435.890019\n",
       "forces                    [[-0.001149886825162, -0.01423317605655, -0.01...\n",
       "stress                    [[0.00012142961089, 2.56922452916e-05, 9.87521...\n",
       "Name: 0, dtype: object"
      ]
     },
     "execution_count": 68,
     "metadata": {},
     "output_type": "execute_result"
    }
   ],
   "source": [
    "df_structures_matrix.iloc[0]"
   ]
  },
  {
   "cell_type": "markdown",
   "metadata": {},
   "source": [
    "## mace geometry optimisation"
   ]
  },
  {
   "cell_type": "code",
   "execution_count": 43,
   "metadata": {},
   "outputs": [],
   "source": [
    "def mace_geom_opt(atoms):\n",
    "\n",
    "    atoms_sp = SinglePoint(\n",
    "        struct=atoms.copy(),\n",
    "        arch=\"mace_mp\",\n",
    "        device='cpu',\n",
    "        calc_kwargs={'model_paths':'small','default_dtype':'float64'},\n",
    "    )\n",
    "\n",
    "    atoms_opt = GeomOpt(\n",
    "        struct=atoms_sp.struct,\n",
    "        fmax=0.001,\n",
    "    )\n",
    "\n",
    "    atoms_opt.run()\n",
    "\n",
    "    return atoms_opt"
   ]
  },
  {
   "cell_type": "code",
   "execution_count": 54,
   "metadata": {},
   "outputs": [
    {
     "data": {
      "text/plain": [
       "array([[ 1.561583,  0.90158 ,  2.512633],\n",
       "       [ 1.561583,  0.90158 ,  7.536496],\n",
       "       [ 1.561583,  0.90158 , 12.56036 ],\n",
       "       [ 0.      ,  3.606321,  2.512633],\n",
       "       [ 0.      ,  3.606321,  7.536496],\n",
       "       [ 0.      ,  3.606321, 12.56036 ],\n",
       "       [-1.561583,  6.311062,  2.512633],\n",
       "       [-1.561583,  6.311062,  7.536496],\n",
       "       [-1.561583,  6.311062, 12.56036 ],\n",
       "       [ 4.684749,  0.90158 ,  2.512633],\n",
       "       [ 4.684749,  0.90158 ,  7.536496],\n",
       "       [ 4.684749,  0.90158 , 12.56036 ],\n",
       "       [ 3.123166,  3.606321,  2.512633],\n",
       "       [ 3.123166,  3.606321,  7.536496],\n",
       "       [ 3.123166,  3.606321, 12.56036 ],\n",
       "       [ 1.561583,  6.311062,  2.512633],\n",
       "       [ 1.561583,  6.311062,  7.536496],\n",
       "       [ 1.561583,  6.311062, 12.56036 ],\n",
       "       [ 7.807914,  0.90158 ,  2.512633],\n",
       "       [ 7.807914,  0.90158 ,  7.536496],\n",
       "       [ 7.807914,  0.90158 , 12.56036 ],\n",
       "       [ 6.246332,  3.606321,  2.512633],\n",
       "       [ 6.246332,  3.606321,  7.536496],\n",
       "       [ 6.246332,  3.606321, 12.56036 ],\n",
       "       [ 4.684749,  6.311062,  2.512633],\n",
       "       [ 4.684749,  6.311062,  7.536496],\n",
       "       [ 4.684749,  6.311062, 12.56036 ],\n",
       "       [ 0.      ,  1.803161,  5.024565],\n",
       "       [ 0.      ,  1.803161, 10.048428],\n",
       "       [ 0.      ,  1.803161, 15.072292],\n",
       "       [-1.561583,  4.507901,  5.024565],\n",
       "       [-1.561583,  4.507901, 10.048428],\n",
       "       [-1.561583,  4.507901, 15.072292],\n",
       "       [-3.123166,  7.212642,  5.024565],\n",
       "       [-3.123166,  7.212642, 10.048428],\n",
       "       [-3.123166,  7.212642, 15.072292],\n",
       "       [ 3.123166,  1.803161,  5.024565],\n",
       "       [ 3.123166,  1.803161, 10.048428],\n",
       "       [ 3.123166,  1.803161, 15.072292],\n",
       "       [ 1.561583,  4.507901,  5.024565],\n",
       "       [ 1.561583,  4.507901, 10.048428],\n",
       "       [ 1.561583,  4.507901, 15.072292],\n",
       "       [ 0.      ,  7.212642,  5.024565],\n",
       "       [ 0.      ,  7.212642, 10.048428],\n",
       "       [ 0.      ,  7.212642, 15.072292],\n",
       "       [ 6.246332,  1.803161,  5.024565],\n",
       "       [ 6.246332,  1.803161, 10.048428],\n",
       "       [ 6.246332,  1.803161, 15.072292],\n",
       "       [ 4.684749,  4.507901,  5.024565],\n",
       "       [ 4.684749,  4.507901, 10.048428],\n",
       "       [ 4.684749,  4.507901, 15.072292],\n",
       "       [ 3.123166,  7.212642,  5.024565],\n",
       "       [ 3.123166,  7.212642, 10.048428],\n",
       "       [ 3.123166,  7.212642, 15.072292],\n",
       "       [ 1.561583,  0.90158 ,  4.420299],\n",
       "       [ 1.561583,  0.90158 ,  9.444162],\n",
       "       [ 1.561583,  0.90158 , 14.468026],\n",
       "       [ 0.      ,  3.606321,  4.420299],\n",
       "       [ 0.      ,  3.606321,  9.444162],\n",
       "       [ 0.      ,  3.606321, 14.468026],\n",
       "       [-1.561583,  6.311062,  4.420299],\n",
       "       [-1.561583,  6.311062,  9.444162],\n",
       "       [-1.561583,  6.311062, 14.468026],\n",
       "       [ 4.684749,  0.90158 ,  4.420299],\n",
       "       [ 4.684749,  0.90158 ,  9.444162],\n",
       "       [ 4.684749,  0.90158 , 14.468026],\n",
       "       [ 3.123166,  3.606321,  4.420299],\n",
       "       [ 3.123166,  3.606321,  9.444162],\n",
       "       [ 3.123166,  3.606321, 14.468026],\n",
       "       [ 1.561583,  6.311062,  4.420299],\n",
       "       [ 1.561583,  6.311062,  9.444162],\n",
       "       [ 1.561583,  6.311062, 14.468026],\n",
       "       [ 7.807914,  0.90158 ,  4.420299],\n",
       "       [ 7.807914,  0.90158 ,  9.444162],\n",
       "       [ 7.807914,  0.90158 , 14.468026],\n",
       "       [ 6.246332,  3.606321,  4.420299],\n",
       "       [ 6.246332,  3.606321,  9.444162],\n",
       "       [ 6.246332,  3.606321, 14.468026],\n",
       "       [ 4.684749,  6.311062,  4.420299],\n",
       "       [ 4.684749,  6.311062,  9.444162],\n",
       "       [ 4.684749,  6.311062, 14.468026],\n",
       "       [ 0.      ,  1.803161,  1.908367],\n",
       "       [ 0.      ,  1.803161,  6.932231],\n",
       "       [ 0.      ,  1.803161, 11.956094],\n",
       "       [-1.561583,  4.507901,  1.908367],\n",
       "       [-1.561583,  4.507901,  6.932231],\n",
       "       [-1.561583,  4.507901, 11.956094],\n",
       "       [-3.123166,  7.212642,  1.908367],\n",
       "       [-3.123166,  7.212642,  6.932231],\n",
       "       [-3.123166,  7.212642, 11.956094],\n",
       "       [ 3.123166,  1.803161,  1.908367],\n",
       "       [ 3.123166,  1.803161,  6.932231],\n",
       "       [ 3.123166,  1.803161, 11.956094],\n",
       "       [ 1.561583,  4.507901,  1.908367],\n",
       "       [ 1.561583,  4.507901,  6.932231],\n",
       "       [ 1.561583,  4.507901, 11.956094],\n",
       "       [ 0.      ,  7.212642,  1.908367],\n",
       "       [ 0.      ,  7.212642,  6.932231],\n",
       "       [ 0.      ,  7.212642, 11.956094],\n",
       "       [ 6.246332,  1.803161,  1.908367],\n",
       "       [ 6.246332,  1.803161,  6.932231],\n",
       "       [ 6.246332,  1.803161, 11.956094],\n",
       "       [ 4.684749,  4.507901,  1.908367],\n",
       "       [ 4.684749,  4.507901,  6.932231],\n",
       "       [ 4.684749,  4.507901, 11.956094],\n",
       "       [ 3.123166,  7.212642,  1.908367],\n",
       "       [ 3.123166,  7.212642,  6.932231],\n",
       "       [ 3.123166,  7.212642, 11.956094]])"
      ]
     },
     "execution_count": 54,
     "metadata": {},
     "output_type": "execute_result"
    }
   ],
   "source": [
    "np.round(sAlN_super3_mace_opt.struct.positions[0:],6)\n"
   ]
  }
 ],
 "metadata": {
  "kernelspec": {
   "display_name": "mace-test",
   "language": "python",
   "name": "python3"
  },
  "language_info": {
   "codemirror_mode": {
    "name": "ipython",
    "version": 3
   },
   "file_extension": ".py",
   "mimetype": "text/x-python",
   "name": "python",
   "nbconvert_exporter": "python",
   "pygments_lexer": "ipython3",
   "version": "3.11.10"
  }
 },
 "nbformat": 4,
 "nbformat_minor": 2
}
