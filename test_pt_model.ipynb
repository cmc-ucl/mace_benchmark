{
 "cells": [
  {
   "cell_type": "markdown",
   "metadata": {},
   "source": [
    "# Test to out-of-the-box MACE potential on LTS and LiMnO"
   ]
  },
  {
   "cell_type": "code",
   "execution_count": 6,
   "metadata": {},
   "outputs": [
    {
     "name": "stdout",
     "output_type": "stream",
     "text": [
      "The autoreload extension is already loaded. To reload it, use:\n",
      "  %reload_ext autoreload\n"
     ]
    }
   ],
   "source": [
    "%load_ext autoreload\n",
    "%reload_ext autoreload\n",
    "%autoreload 2\n",
    "\n",
    "from pymatgen.core.structure import Structure\n",
    "from pymatgen.symmetry.analyzer import SpacegroupAnalyzer\n",
    "from pymatgen.io.ase import AseAtomsAdaptor\n",
    "from ase.io import read\n",
    "from ase.data import chemical_symbols\n",
    "from ase.atoms import Atoms\n",
    "from ase.visualize import view\n",
    "import copy\n",
    "import numpy as np\n",
    "import pandas as pd\n",
    "from scipy.constants import physical_constants\n",
    "HARTREE_TO_EV = physical_constants['Hartree energy in eV'][0]\n",
    "from sklearn.metrics import mean_squared_error, root_mean_squared_error\n",
    "from scipy.stats import spearmanr, kendalltau\n",
    "\n",
    "import matplotlib.pyplot as plt\n",
    "\n",
    "import sys\n",
    "import os\n",
    "import json\n",
    "import re\n",
    "import shutil as sh\n",
    "\n",
    "from janus_core.calculations.single_point import SinglePoint\n",
    "from janus_core.calculations.geom_opt import GeomOpt\n",
    "\n",
    "current_dir = os.path.dirname(os.path.abspath(\"__file__\"))\n",
    "sys.path.append(current_dir)\n",
    "\n",
    "from structure_generation import get_all_configurations_pmg, write_extended_xyz, generate_random_structures, \\\n",
    "    write_CRYSTAL_gui_from_data\n",
    "from local_functions import lattice_params_to_matrix, get_errors, get_rankings"
   ]
  },
  {
   "cell_type": "markdown",
   "metadata": {},
   "source": [
    "# Prepare LTS files for training"
   ]
  },
  {
   "cell_type": "markdown",
   "metadata": {},
   "source": [
    "### Read the LTS output files"
   ]
  },
  {
   "cell_type": "code",
   "execution_count": 19,
   "metadata": {},
   "outputs": [],
   "source": [
    "# Conversion factors\n",
    "HARTREE_TO_EV = physical_constants['Hartree energy in eV'][0]\n",
    "BOHR_TO_ANGSTROM = physical_constants['Bohr radius'][0] * 1e10  # Convert meters to Ångstrom\n",
    "BOHR_CUBED_TO_ANGSTROM_CUBED = BOHR_TO_ANGSTROM**3\n",
    "\n",
    "def parse_extended_xyz(file_content, num_atoms):\n",
    "    \"\"\"\n",
    "    Parse the file to extract structures and convert lattice parameters, coordinates, energy, forces,\n",
    "    and stress tensor to standard units (e.g., eV, Å).\n",
    "    \"\"\"\n",
    "    def extract_floats(line):\n",
    "        \"\"\"Helper function to extract floats from a string.\"\"\"\n",
    "        return list(map(float, re.findall(r\"[-+]?\\d*\\.\\d+(?:[Ee][-+]?\\d+)?\", line)))\n",
    "\n",
    "    results = []\n",
    "    structure_data = {}\n",
    "\n",
    "    for i, line in enumerate(file_content):\n",
    "        line = line.strip()\n",
    "        \n",
    "        # Lattice parameters\n",
    "        if \"ATOM                 X/A                 Y/B                 Z/C\" in line:\n",
    "            lattice_params = extract_floats(file_content[i - 3])\n",
    "            if len(lattice_params) == 6:\n",
    "                a, b, c, alpha, beta, gamma = lattice_params\n",
    "                structure_data['lattice_matrix'] = lattice_params_to_matrix(a, b, c, alpha, beta, gamma)\n",
    "\n",
    "        # Fractional coordinates and atomic symbols\n",
    "        if \"ATOM                 X/A                 Y/B                 Z/C\" in line:\n",
    "            \n",
    "            start = i + 2\n",
    "            fractional_coords = []\n",
    "            atomic_symbols = []\n",
    "            for j in range(num_atoms):\n",
    "                coord_line = file_content[start + j].strip()\n",
    "                parts = coord_line.split()\n",
    "                atomic_number = int(parts[2])  # Third element is the atomic number\n",
    "                atomic_symbols.append(chemical_symbols[atomic_number])  # Convert to symbol\n",
    "                fractional_coords.append(extract_floats(coord_line))\n",
    "\n",
    "            structure_data['fractional_coordinates'] = fractional_coords\n",
    "            structure_data['atomic_symbols'] = atomic_symbols\n",
    "\n",
    "            # Calculate Cartesian coordinates\n",
    "            lattice_matrix = structure_data['lattice_matrix']\n",
    "            structure_data['cartesian_coordinates'] = [\n",
    "                np.dot(coord, lattice_matrix) for coord in fractional_coords\n",
    "            ]\n",
    "\n",
    "        # Energy\n",
    "        if \"== SCF ENDED - CONVERGENCE ON ENERGY      E(AU)\" in line:\n",
    "            energy_hartree = extract_floats(line)[0]\n",
    "            structure_data['energy_ev'] = energy_hartree * HARTREE_TO_EV\n",
    "\n",
    "        # Forces\n",
    "        if \"CARTESIAN FORCES IN HARTREE/BOHR (ANALYTICAL)\" in line:\n",
    "            start = i + 2\n",
    "            structure_data['forces'] = [\n",
    "                extract_floats(file_content[start + j])\n",
    "                for j in range(num_atoms)\n",
    "            ]\n",
    "\n",
    "        # Stress tensor\n",
    "        if \"STRESS TENSOR, IN HARTREE/BOHR^3:\" in line:\n",
    "            start = i + 4\n",
    "            stress_hartree_bohr3 = [\n",
    "                extract_floats(file_content[start + j]) for j in range(3)\n",
    "            ]\n",
    "            stress_ev_angstrom3 = np.array(stress_hartree_bohr3) * (HARTREE_TO_EV / BOHR_CUBED_TO_ANGSTROM_CUBED)\n",
    "            structure_data['stress'] = stress_ev_angstrom3.tolist()\n",
    "\n",
    "        # Store the structure if all required fields are found\n",
    "        if all(key in structure_data for key in ['lattice_matrix', 'fractional_coordinates', 'cartesian_coordinates', 'energy_ev', 'forces', 'stress', 'atomic_symbols']):\n",
    "            results.append(structure_data.copy())\n",
    "            structure_data = {}  # Reset for the next structure\n",
    "\n",
    "    return results"
   ]
  },
  {
   "cell_type": "code",
   "execution_count": 20,
   "metadata": {},
   "outputs": [
    {
     "data": {
      "text/plain": [
       "[{'lattice_matrix': array([[11.04220768,  0.        ,  0.        ],\n",
       "         [ 5.58423713,  9.52610341,  0.        ],\n",
       "         [ 5.45797056,  3.12713828,  8.99820275]]),\n",
       "  'fractional_coordinates': [[-0.01251336868143,\n",
       "    -0.01251336868143,\n",
       "    0.01251336868143],\n",
       "   [0.001870111537215, 0.001870111537215, 0.3259000190602],\n",
       "   [0.001870111537215, 0.001870111537215, -0.3296402421346],\n",
       "   [-0.01043287451096, 0.3312659375629, 0.01043287451096],\n",
       "   [-0.004107594319187, 0.3391166940447, 0.3324954501373],\n",
       "   [-0.01043287451096, 0.3312659375629, -0.3312659375629],\n",
       "   [-0.01123533898213, -0.3119756960169, 0.01123533898213],\n",
       "   [-0.01123533898213, -0.3119756960169, 0.3119756960169],\n",
       "   [-0.02164996790024, -0.3388269696344, -0.3197615312327],\n",
       "   [0.3312659375629, -0.01043287451096, 0.01043287451096],\n",
       "   [0.3391166940447, -0.004107594319187, 0.3324954501373],\n",
       "   [0.3312659375629, -0.01043287451096, -0.3312659375629],\n",
       "   [0.3197615312327, 0.3197615312327, 0.02164996790024],\n",
       "   [0.3197615312327, 0.3197615312327, 0.3388269696344],\n",
       "   [0.3195179946081, 0.3195179946081, -0.3195179946081],\n",
       "   [0.3296402421346, -0.3259000190602, -0.001870111537215],\n",
       "   [0.3392867131334, -0.3113532108953, 0.3113532108953],\n",
       "   [0.3392867131334, -0.3113532108953, -0.3392867131334],\n",
       "   [-0.3119756960169, -0.01123533898213, 0.01123533898213],\n",
       "   [-0.3119756960169, -0.01123533898213, 0.3119756960169],\n",
       "   [-0.3388269696344, -0.02164996790024, -0.3197615312327],\n",
       "   [-0.3259000190602, 0.3296402421346, -0.001870111537215],\n",
       "   [-0.3113532108953, 0.3392867131334, 0.3113532108953],\n",
       "   [-0.3113532108953, 0.3392867131334, -0.3392867131334],\n",
       "   [-0.3324954501373, -0.3324954501373, 0.004107594319187],\n",
       "   [-0.318746375713, -0.318746375713, 0.318746375713],\n",
       "   [-0.3324954501373, -0.3324954501373, -0.3391166940447],\n",
       "   [0.1785494847216, 0.1785494847216, 0.1543225829552],\n",
       "   [0.1785494847216, 0.1785494847216, 0.4885784476017],\n",
       "   [0.1778184496969, 0.1778184496969, -0.1778184496969],\n",
       "   [0.1875068139561, 0.4853939755453, 0.1635496052493],\n",
       "   [0.1794541260479, 0.4992915084505, -0.4992915084505],\n",
       "   [0.1794541260479, 0.4992915084505, -0.1794541260479],\n",
       "   [0.1777654311018, -0.1797383073437, 0.1797383073437],\n",
       "   [0.1753189509047, -0.1941831857811, -0.4905678825618],\n",
       "   [0.1777654311018, -0.1797383073437, -0.1777654311018],\n",
       "   [0.4853939755453, 0.1875068139561, 0.1635496052493],\n",
       "   [0.4992915084505, 0.1794541260479, -0.4992915084505],\n",
       "   [0.4992915084505, 0.1794541260479, -0.1794541260479],\n",
       "   [0.4905678825618, 0.4905678825618, 0.1941831857811],\n",
       "   [0.4890244262021, 0.4890244262021, -0.4890244262021],\n",
       "   [0.4905678825618, 0.4905678825618, -0.1753189509047],\n",
       "   [0.4911345748638, -0.1780960364922, 0.1780960364922],\n",
       "   [0.4911345748638, -0.1780960364922, -0.4911345748638],\n",
       "   [-0.4885784476017, -0.1543225829552, -0.1785494847216],\n",
       "   [-0.1797383073437, 0.1777654311018, 0.1797383073437],\n",
       "   [-0.1941831857811, 0.1753189509047, -0.4905678825618],\n",
       "   [-0.1797383073437, 0.1777654311018, -0.1777654311018],\n",
       "   [-0.1780960364922, 0.4911345748638, 0.1780960364922],\n",
       "   [-0.1780960364922, 0.4911345748638, -0.4911345748638],\n",
       "   [-0.1543225829552, -0.4885784476017, -0.1785494847216],\n",
       "   [-0.1646505986143, -0.1646505986143, 0.1646505986143],\n",
       "   [-0.1635496052493, -0.1635496052493, -0.4853939755453],\n",
       "   [-0.1635496052493, -0.1635496052493, -0.1875068139561]],\n",
       "  'atomic_symbols': ['Li',\n",
       "   'Li',\n",
       "   'Li',\n",
       "   'Li',\n",
       "   'Li',\n",
       "   'Li',\n",
       "   'Li',\n",
       "   'Li',\n",
       "   'Ti',\n",
       "   'Li',\n",
       "   'Li',\n",
       "   'Li',\n",
       "   'Ti',\n",
       "   'Ti',\n",
       "   'Ti',\n",
       "   'Li',\n",
       "   'Ti',\n",
       "   'Ti',\n",
       "   'Li',\n",
       "   'Li',\n",
       "   'Ti',\n",
       "   'Li',\n",
       "   'Ti',\n",
       "   'Ti',\n",
       "   'Li',\n",
       "   'Li',\n",
       "   'Li',\n",
       "   'S',\n",
       "   'S',\n",
       "   'S',\n",
       "   'S',\n",
       "   'S',\n",
       "   'S',\n",
       "   'S',\n",
       "   'S',\n",
       "   'S',\n",
       "   'S',\n",
       "   'S',\n",
       "   'S',\n",
       "   'S',\n",
       "   'S',\n",
       "   'S',\n",
       "   'S',\n",
       "   'S',\n",
       "   'S',\n",
       "   'S',\n",
       "   'S',\n",
       "   'S',\n",
       "   'S',\n",
       "   'S',\n",
       "   'S',\n",
       "   'S',\n",
       "   'S',\n",
       "   'S'],\n",
       "  'cartesian_coordinates': [array([-0.13975524, -0.08007261,  0.11259783]),\n",
       "   array([1.80984602, 1.0369493 , 2.93251445]),\n",
       "   array([-1.76807343, -1.01301574, -2.96616973]),\n",
       "   array([1.7916079 , 3.18829862, 0.09387712]),\n",
       "   array([3.6631015 , 4.27021994, 2.99186147]),\n",
       "   array([-0.07337415,  2.11975918, -2.98079807]),\n",
       "   array([-1.80488706, -2.93677828,  0.10109786]),\n",
       "   array([-0.16345505, -1.9963216 ,  2.80722056]),\n",
       "   array([-3.87640261, -4.22763927, -2.87727909]),\n",
       "   array([ 3.65658996, -0.0667596 ,  0.09387712]),\n",
       "   array([5.53640956, 1.00062988, 2.99186147]),\n",
       "   array([ 1.7916079 , -1.13529903, -2.98079807]),\n",
       "   array([5.43466234, 3.11378386, 0.1948108 ]),\n",
       "   array([7.16580508, 4.1056402 , 3.04883377]),\n",
       "   array([ 3.5685285 ,  2.04458451, -2.8750877 ]),\n",
       "   array([ 1.80984601, -3.11040538, -0.01682764]),\n",
       "   array([ 3.70716085, -1.99233834,  2.80161932]),\n",
       "   array([ 0.1559873 , -4.02697935, -3.05297063]),\n",
       "   array([-3.44631907, -0.07189454,  0.10109786]),\n",
       "   array([-1.80488706,  0.86856214,  2.80722056]),\n",
       "   array([-5.60754534, -1.20617836, -2.87727909]),\n",
       "   array([-1.76807343,  3.13433894, -0.01682764]),\n",
       "   array([0.1559873 , 4.20572486, 2.80161932]),\n",
       "   array([-3.39518625,  2.17108385, -3.05297063]),\n",
       "   array([-5.50579812, -3.15454102,  0.03696097]),\n",
       "   array([-3.55991069, -2.03964694,  2.86814451]),\n",
       "   array([-7.37910618, -4.22785083, -3.05144077]),\n",
       "   array([3.81093127, 2.18346891, 1.38862589]),\n",
       "   array([5.63528994, 3.22873322, 4.39632793]),\n",
       "   array([ 1.98596078,  1.13785406, -1.60004646]),\n",
       "   array([5.67369317, 5.13535543, 1.47165251]),\n",
       "   array([ 2.04461356,  3.19494895, -4.49272622]),\n",
       "   array([ 3.79027657,  4.19512467, -1.61476461]),\n",
       "   array([ 1.94022787, -1.15013916,  1.61732173]),\n",
       "   array([-1.82596175, -3.38388271, -4.41422927]),\n",
       "   array([-0.01101701, -2.26810279, -1.59956939]),\n",
       "   array([7.29955253, 2.29765153, 1.47165251]),\n",
       "   array([ 3.79027657,  0.14814497, -4.49272622]),\n",
       "   array([ 5.53593959,  1.1483207 , -1.61476461]),\n",
       "   array([9.21624594, 5.28043805, 1.74729968]),\n",
       "   array([ 5.46165671,  3.12925025, -4.40034093]),\n",
       "   array([ 7.19951415,  4.12495378, -1.57755547]),\n",
       "   array([ 5.4007224 , -1.13963033,  1.60254424]),\n",
       "   array([ 1.74808142, -3.23240699, -4.41932848]),\n",
       "   array([-7.23127642, -2.02844181, -1.60662446]),\n",
       "   array([-0.01101701,  2.25547842,  1.61732173]),\n",
       "   array([-3.84269353,  0.13603285, -4.41422927]),\n",
       "   array([-1.96226189,  1.1375148 , -1.59956939]),\n",
       "   array([1.74808143, 5.23552968, 1.60254424]),\n",
       "   array([-1.90455954,  3.14275302, -4.41932848]),\n",
       "   array([-5.40691775, -5.21259774, -1.60662446]),\n",
       "   array([-1.83889597, -1.05359344,  1.48155947]),\n",
       "   array([-5.36851451, -3.07588453, -4.3676734 ]),\n",
       "   array([-3.74265516, -2.14435019, -1.68722433])],\n",
       "  'energy_ev': -504325.23704776797,\n",
       "  'forces': [[-1.39553504704e-15, -1.637578961322e-15, -1.52295496747e-06],\n",
       "   [4.782725376173e-05, 4.782725376196e-05, 8.250712023594e-06],\n",
       "   [-4.782725376262e-05, -4.78272537624e-05, 8.250712020264e-06],\n",
       "   [-7.5648676365e-05, 4.218847493576e-15, -1.210503284077e-05],\n",
       "   [3.108946247797e-07, -3.1089462392e-07, 0.0001107170275232],\n",
       "   [-3.380229979611e-15, 7.564867636412e-05, -1.210503283811e-05],\n",
       "   [-3.582840487226e-05, -2.22044604925e-15, -1.252760568587e-05],\n",
       "   [-9.431503130135e-16, 3.582840487226e-05, -1.252760568654e-05],\n",
       "   [7.151528484961e-06, -7.15152845876e-06, -5.855745414607e-05],\n",
       "   [4.250329586176e-15, -7.564867636733e-05, -1.210503283611e-05],\n",
       "   [-3.108946248799e-07, 3.108946220916e-07, 0.0001107170275209],\n",
       "   [7.564867636695e-05, -1.859623566247e-15, -1.210503283766e-05],\n",
       "   [7.151528457428e-06, 7.15152850761e-06, -5.855745421535e-05],\n",
       "   [-7.151528445881e-06, -7.151528480964e-06, -5.855745418604e-05],\n",
       "   [-6.665038703503e-15, -5.551115123126e-15, -0.000133345711431],\n",
       "   [-4.78272537634e-05, 4.782725375496e-05, 8.250712022928e-06],\n",
       "   [1.488219663766e-14, 5.710446579066e-05, 5.712528709623e-06],\n",
       "   [-5.710446579243e-05, -2.464695114668e-14, 5.712528670543e-06],\n",
       "   [-3.942832103692e-16, -3.582840487759e-05, -1.25276056846e-05],\n",
       "   [3.582840486938e-05, 3.094746681143e-15, -1.252760568571e-05],\n",
       "   [-7.151528478744e-06, 7.151528457872e-06, -5.855745418781e-05],\n",
       "   [4.782725375563e-05, -4.782725376373e-05, 8.250712022484e-06],\n",
       "   [5.710446578888e-05, 6.661338147751e-16, 5.712528709623e-06],\n",
       "   [-2.052267894977e-14, -5.710446580309e-05, 5.712528695412e-06],\n",
       "   [3.108946235033e-07, 3.10894621755e-07, 0.000110717027526],\n",
       "   [-1.057982550911e-15, 1.054711873394e-15, 3.667452161604e-05],\n",
       "   [-3.108946253432e-07, -3.10894626751e-07, 0.0001107170275216],\n",
       "   [3.616571518283e-05, 3.616571519272e-05, 0.0001128628666898],\n",
       "   [-3.616571517734e-05, -3.616571518872e-05, 0.0001128628666365],\n",
       "   [-5.220294773171e-15, 9.561795799584e-15, -1.340876751499e-05],\n",
       "   [-1.872263210245e-05, 1.87226320989e-05, -3.529641016775e-05],\n",
       "   [-1.118943134274e-14, 5.462624309871e-05, 0.0001060505286201],\n",
       "   [-5.462624311292e-05, -2.75335310107e-14, 0.0001060505286183],\n",
       "   [1.209508213176e-14, -0.0001451785684914, -3.168592556167e-05],\n",
       "   [-2.505516467544e-05, 2.505516469498e-05, -1.878001727107e-05],\n",
       "   [0.000145178568502, -8.881784197001e-15, -3.168592557604e-05],\n",
       "   [1.872263206693e-05, -1.872263213798e-05, -3.529641017064e-05],\n",
       "   [5.462624310937e-05, 2.087219286295e-14, 0.0001060505286006],\n",
       "   [2.213816308603e-14, -5.462624309516e-05, 0.000106050528597],\n",
       "   [2.505516469142e-05, 2.505516470386e-05, -1.878001725686e-05],\n",
       "   [7.167734133971e-15, -3.053113317719e-15, 6.896273827905e-05],\n",
       "   [-2.505516469498e-05, -2.505516468965e-05, -1.878001724442e-05],\n",
       "   [9.410105006473e-15, 6.506613178359e-06, -0.0001344104798733],\n",
       "   [-6.506613179524e-06, -6.342149028171e-15, -0.000134410479852],\n",
       "   [-3.61657151699e-05, 3.616571517212e-05, 0.0001128628666862],\n",
       "   [-0.000145178568502, 1.376676550535e-14, -3.168592556227e-05],\n",
       "   [2.505516467899e-05, -2.505516467544e-05, -1.878001725686e-05],\n",
       "   [-1.173472179188e-14, 0.0001451785685056, -3.168592557082e-05],\n",
       "   [6.506613185908e-06, 1.798561299893e-14, -0.0001344104798591],\n",
       "   [-1.123145724338e-14, -6.506613175639e-06, -0.0001344104798626],\n",
       "   [3.616571518789e-05, -3.616571517795e-05, 0.0001128628666578],\n",
       "   [-2.884129402127e-15, 2.6645352591e-15, -0.0001182827776165],\n",
       "   [1.872263212022e-05, 1.872263209535e-05, -3.529641015243e-05],\n",
       "   [-1.872263213087e-05, -1.872263207758e-05, -3.529641015665e-05]],\n",
       "  'stress': [[3.8139380670404766e-05,\n",
       "    1.7980738756083948e-14,\n",
       "    9.093768807437962e-15],\n",
       "   [3.296469090708587e-14, 3.813938068546255e-05, 3.031256280029216e-14],\n",
       "   [1.1157479667664045e-21, 1.1157479667664045e-21, -6.776800370443442e-05]]}]"
      ]
     },
     "execution_count": 20,
     "metadata": {},
     "output_type": "execute_result"
    }
   ],
   "source": [
    "with open('data/crystal/lts/output_files/lts_optgeom_full_2009.out', \"r\") as f:\n",
    "    file_content = f.readlines()\n",
    "parse_extended_xyz(file_content, num_atoms=54)"
   ]
  },
  {
   "cell_type": "code",
   "execution_count": 79,
   "metadata": {},
   "outputs": [
    {
     "name": "stdout",
     "output_type": "stream",
     "text": [
      "YES -738747.2531158087 lts_optgeom_cell_2482.out\n",
      "YES -742072.284952721 lts_optgeom_cell_2482.out\n",
      "YES -741170.5445226906 lts_optgeom_cell_2482.out\n",
      "YES -741186.4791973276 lts_optgeom_cell_2482.out\n",
      "YES -741171.9394810455 lts_optgeom_cell_2482.out\n",
      "YES -741230.0171135742 lts_optgeom_cell_3788.out\n",
      "YES -741408.9829984839 lts_optgeom_cell_3788.out\n",
      "YES -741369.6528400094 lts_optgeom_cell_3788.out\n",
      "YES -741371.2832037945 lts_optgeom_cell_3788.out\n",
      "YES -741368.9268345372 lts_optgeom_cell_3788.out\n",
      "YES -738722.7124483186 lts_optgeom_cell_2469.out\n",
      "YES -741967.1253010265 lts_optgeom_cell_2469.out\n",
      "YES -741044.1277338095 lts_optgeom_cell_2469.out\n",
      "YES -741083.2763208264 lts_optgeom_cell_2469.out\n",
      "YES -741083.5973956735 lts_optgeom_cell_2469.out\n",
      "YES -740979.4598865866 lts_optgeom_cell_3039.out\n",
      "YES -741213.4609595288 lts_optgeom_cell_3039.out\n",
      "YES -741175.5736538162 lts_optgeom_cell_3039.out\n",
      "YES -741171.2546218014 lts_optgeom_cell_3039.out\n",
      "YES -738722.7586354833 lts_optgeom_cell_2455.out\n",
      "YES -742012.2628541241 lts_optgeom_cell_2455.out\n",
      "YES -741060.3872747923 lts_optgeom_cell_2455.out\n",
      "YES -741102.8593957621 lts_optgeom_cell_2455.out\n",
      "YES -741104.3685090113 lts_optgeom_cell_2455.out\n",
      "YES -738880.1937642553 lts_optgeom_cell_2680.out\n",
      "YES -742290.0624305408 lts_optgeom_cell_2680.out\n",
      "YES -741270.027365681 lts_optgeom_cell_2680.out\n",
      "YES -741266.6973831465 lts_optgeom_cell_2680.out\n",
      "YES -741046.9454715492 lts_optgeom_cell_3213.out\n",
      "YES -741254.6883857044 lts_optgeom_cell_3213.out\n",
      "YES -741210.9725433191 lts_optgeom_cell_3213.out\n",
      "YES -741208.4794334173 lts_optgeom_cell_3213.out\n",
      "YES -741531.2618174651 lts_optgeom_cell_3373.out\n",
      "YES -741672.8540519595 lts_optgeom_cell_3373.out\n",
      "YES -741636.6362398693 lts_optgeom_cell_3373.out\n",
      "YES -741635.0598342494 lts_optgeom_cell_3373.out\n",
      "YES -740990.9115545927 lts_optgeom_cell_3367.out\n",
      "YES -741166.8458945268 lts_optgeom_cell_3367.out\n",
      "YES -741125.684315661 lts_optgeom_cell_3367.out\n",
      "YES -741123.711496444 lts_optgeom_cell_3367.out\n",
      "YES -738445.4606513386 lts_optgeom_cell_2079.out\n",
      "YES -741595.0515906696 lts_optgeom_cell_2079.out\n",
      "YES -740734.7829488729 lts_optgeom_cell_2079.out\n",
      "YES -740764.2031359129 lts_optgeom_cell_2079.out\n",
      "YES -740759.2896254231 lts_optgeom_cell_2079.out\n",
      "YES -740371.3300159409 lts_optgeom_cell_178.out\n",
      "YES -740647.51905585 lts_optgeom_cell_178.out\n",
      "YES -740595.1897848009 lts_optgeom_cell_178.out\n",
      "YES -740589.646338638 lts_optgeom_cell_178.out\n",
      "YES -741121.9161934535 lts_optgeom_cell_2284.out\n",
      "YES -741314.2236678395 lts_optgeom_cell_2284.out\n",
      "YES -741281.5030699669 lts_optgeom_cell_2284.out\n",
      "YES -741276.9966461421 lts_optgeom_cell_2284.out\n",
      "YES -740964.9707566252 lts_optgeom_cell_2253.out\n",
      "YES -741177.4063422037 lts_optgeom_cell_2253.out\n",
      "YES -741132.6832833908 lts_optgeom_cell_2253.out\n",
      "YES -741129.1811641848 lts_optgeom_cell_2253.out\n",
      "YES -740593.3620518245 lts_optgeom_cell_187.out\n",
      "YES -740843.9376013812 lts_optgeom_cell_187.out\n",
      "YES -740800.7920981955 lts_optgeom_cell_187.out\n",
      "YES -740790.8707469865 lts_optgeom_cell_187.out\n",
      "YES -740371.3237674447 lts_optgeom_cell_186.out\n",
      "YES -740662.9156210246 lts_optgeom_cell_186.out\n",
      "YES -740599.9661458767 lts_optgeom_cell_186.out\n",
      "YES -740593.8011487669 lts_optgeom_cell_186.out\n",
      "YES -738565.341696054 lts_optgeom_cell_2246.out\n",
      "YES -741761.9180645514 lts_optgeom_cell_2246.out\n",
      "YES -740845.5069856469 lts_optgeom_cell_2246.out\n",
      "YES -740882.0531003638 lts_optgeom_cell_2246.out\n",
      "YES -740881.1798410192 lts_optgeom_cell_2246.out\n"
     ]
    },
    {
     "ename": "KeyboardInterrupt",
     "evalue": "",
     "output_type": "error",
     "traceback": [
      "\u001b[0;31m---------------------------------------------------------------------------\u001b[0m",
      "\u001b[0;31mKeyboardInterrupt\u001b[0m                         Traceback (most recent call last)",
      "Cell \u001b[0;32mIn[79], line 61\u001b[0m\n\u001b[1;32m     59\u001b[0m \u001b[38;5;66;03m# Write atomic data\u001b[39;00m\n\u001b[1;32m     60\u001b[0m \u001b[38;5;28;01mfor\u001b[39;00m symbol, coord, force \u001b[38;5;129;01min\u001b[39;00m \u001b[38;5;28mzip\u001b[39m(row[\u001b[38;5;124m'\u001b[39m\u001b[38;5;124matomic_symbols\u001b[39m\u001b[38;5;124m'\u001b[39m], row[\u001b[38;5;124m'\u001b[39m\u001b[38;5;124mcartesian_coordinates\u001b[39m\u001b[38;5;124m'\u001b[39m], row[\u001b[38;5;124m'\u001b[39m\u001b[38;5;124mforces\u001b[39m\u001b[38;5;124m'\u001b[39m]):\n\u001b[0;32m---> 61\u001b[0m     out_f\u001b[38;5;241m.\u001b[39mwrite(\n\u001b[1;32m     62\u001b[0m         \u001b[38;5;124mf\u001b[39m\u001b[38;5;124m\"\u001b[39m\u001b[38;5;132;01m{\u001b[39;00msymbol\u001b[38;5;132;01m}\u001b[39;00m\u001b[38;5;124m \u001b[39m\u001b[38;5;132;01m{\u001b[39;00mcoord[\u001b[38;5;241m0\u001b[39m]\u001b[38;5;132;01m:\u001b[39;00m\u001b[38;5;124m.12e\u001b[39m\u001b[38;5;132;01m}\u001b[39;00m\u001b[38;5;124m \u001b[39m\u001b[38;5;132;01m{\u001b[39;00mcoord[\u001b[38;5;241m1\u001b[39m]\u001b[38;5;132;01m:\u001b[39;00m\u001b[38;5;124m.12e\u001b[39m\u001b[38;5;132;01m}\u001b[39;00m\u001b[38;5;124m \u001b[39m\u001b[38;5;132;01m{\u001b[39;00mcoord[\u001b[38;5;241m2\u001b[39m]\u001b[38;5;132;01m:\u001b[39;00m\u001b[38;5;124m.12e\u001b[39m\u001b[38;5;132;01m}\u001b[39;00m\u001b[38;5;124m \u001b[39m\u001b[38;5;124m\"\u001b[39m\n\u001b[1;32m     63\u001b[0m         \u001b[38;5;124mf\u001b[39m\u001b[38;5;124m\"\u001b[39m\u001b[38;5;132;01m{\u001b[39;00mforce[\u001b[38;5;241m0\u001b[39m]\u001b[38;5;132;01m:\u001b[39;00m\u001b[38;5;124m.12e\u001b[39m\u001b[38;5;132;01m}\u001b[39;00m\u001b[38;5;124m \u001b[39m\u001b[38;5;132;01m{\u001b[39;00mforce[\u001b[38;5;241m1\u001b[39m]\u001b[38;5;132;01m:\u001b[39;00m\u001b[38;5;124m.12e\u001b[39m\u001b[38;5;132;01m}\u001b[39;00m\u001b[38;5;124m \u001b[39m\u001b[38;5;132;01m{\u001b[39;00mforce[\u001b[38;5;241m2\u001b[39m]\u001b[38;5;132;01m:\u001b[39;00m\u001b[38;5;124m.12e\u001b[39m\u001b[38;5;132;01m}\u001b[39;00m\u001b[38;5;130;01m\\n\u001b[39;00m\u001b[38;5;124m\"\u001b[39m\n\u001b[1;32m     64\u001b[0m     )\n",
      "\u001b[0;31mKeyboardInterrupt\u001b[0m: "
     ]
    }
   ],
   "source": [
    "# Write all the extxyz from all output files\n",
    "import os\n",
    "import numpy as np\n",
    "import pandas as pd\n",
    "\n",
    "# Folder containing the .out files\n",
    "folder_path = \"data/crystal/lts/output_files\"\n",
    "output_folder = \"data/crystal/lts/extxyz_files\"\n",
    "os.makedirs(output_folder, exist_ok=True)  # Ensure the output folder exists\n",
    "\n",
    "file_list = [f for f in os.listdir(folder_path) if f.startswith(\"lts\") and f.endswith(\".out\")]\n",
    "\n",
    "global_index = -1\n",
    "for file_name in file_list:\n",
    "            \n",
    "    # Construct file path for the current Z\n",
    "    file_path = os.path.join(folder_path, file_name)\n",
    "\n",
    "    # Read the file and process its content\n",
    "    with open(file_path, \"r\") as f:\n",
    "        file_content = f.readlines()\n",
    "\n",
    "    # Parse the file content\n",
    "    parsed_structures = parse_extended_xyz(file_content, num_atoms=54)  # Replace 108 with your atom count\n",
    "\n",
    "    # Convert parsed structures to a DataFrame\n",
    "    df_structures = pd.DataFrame(parsed_structures)\n",
    "\n",
    "    # Save all extracted structures with unique global indices\n",
    "    for _, row in df_structures.iterrows():\n",
    "        # Generate the output file name with the incrementing global index\n",
    "        global_index += 1\n",
    "        output_file = os.path.join(\n",
    "            output_folder, f\"lts_{global_index}.xyz\"\n",
    "        )\n",
    "\n",
    "        # Write the structure to an extended XYZ file\n",
    "        with open(output_file, \"w\") as out_f:\n",
    "            # Write number of atoms\n",
    "            num_atoms = len(row['cartesian_coordinates'])\n",
    "            out_f.write(f\"{num_atoms}\\n\")\n",
    "            if row['energy_ev'] < -550000:\n",
    "                print('YES',row['energy_ev'],file_name)\n",
    "            # else:\n",
    "            #     print('NO',file_name)\n",
    "            # Write metadata\n",
    "            lattice_flat = \" \".join(f\"{value:.12e}\" for value in row['lattice_matrix'].flatten())\n",
    "            stress_flat = \" \".join(f\"{value:.12e}\" for value in np.array(row['stress']).flatten())\n",
    "            out_f.write(\n",
    "                f\"dft_energy={row['energy_ev']:.12e} \"\n",
    "                f'Lattice=\"{lattice_flat}\" '\n",
    "                f'dft_stress=\"{stress_flat}\" '\n",
    "                f'Properties=species:S:1:pos:R:3:dft_forces:R:3 '\n",
    "                f'config_type=random '\n",
    "                # f'system_name={os.path.basename(output_file[:-4])}\\n'\n",
    "                f'system_name=random\\n'\n",
    "            )\n",
    "\n",
    "            # Write atomic data\n",
    "            for symbol, coord, force in zip(row['atomic_symbols'], row['cartesian_coordinates'], row['forces']):\n",
    "                out_f.write(\n",
    "                    f\"{symbol} {coord[0]:.12e} {coord[1]:.12e} {coord[2]:.12e} \"\n",
    "                    f\"{force[0]:.12e} {force[1]:.12e} {force[2]:.12e}\\n\"\n",
    "                )"
   ]
  },
  {
   "cell_type": "markdown",
   "metadata": {},
   "source": [
    "### Test for duplicates"
   ]
  },
  {
   "cell_type": "code",
   "execution_count": 24,
   "metadata": {},
   "outputs": [
    {
     "name": "stdout",
     "output_type": "stream",
     "text": [
      "No duplicate files found.\n"
     ]
    }
   ],
   "source": [
    "import os\n",
    "import hashlib\n",
    "\n",
    "def calculate_file_hash(file_path, hash_algo=\"md5\"):\n",
    "    \"\"\"\n",
    "    Calculate the hash of a file using the specified algorithm.\n",
    "    \n",
    "    Parameters:\n",
    "        file_path (str): Path to the file.\n",
    "        hash_algo (str): Hash algorithm to use (default: \"md5\").\n",
    "    \n",
    "    Returns:\n",
    "        str: Hexadecimal hash of the file content.\n",
    "    \"\"\"\n",
    "    hash_func = hashlib.new(hash_algo)\n",
    "    with open(file_path, 'rb') as f:\n",
    "        for chunk in iter(lambda: f.read(4096), b\"\"):\n",
    "            hash_func.update(chunk)\n",
    "    return hash_func.hexdigest()\n",
    "\n",
    "def find_duplicate_files(folder_path, pattern_prefix):\n",
    "    \"\"\"\n",
    "    Find duplicate files in a folder for a given pattern prefix.\n",
    "    \n",
    "    Parameters:\n",
    "        folder_path (str): Path to the folder containing files.\n",
    "        pattern_prefix (str): Prefix pattern for filtering files (e.g., \"AlGaN_super3_X_Y_\").\n",
    "    \n",
    "    Returns:\n",
    "        list of tuple: List of duplicate file pairs (file1, file2).\n",
    "    \"\"\"\n",
    "    # Filter files matching the pattern\n",
    "    files = [f for f in os.listdir(folder_path) if f.startswith(pattern_prefix)]\n",
    "    file_hashes = {}\n",
    "    duplicates = []\n",
    "\n",
    "    # Calculate hashes for each file\n",
    "    for file in files:\n",
    "        file_path = os.path.join(folder_path, file)\n",
    "        file_hash = calculate_file_hash(file_path)\n",
    "        if file_hash in file_hashes:\n",
    "            # Found a duplicate\n",
    "            duplicates.append((file_hashes[file_hash], file))\n",
    "        else:\n",
    "            file_hashes[file_hash] = file\n",
    "\n",
    "    return duplicates\n",
    "\n",
    "# Folder containing the .out files\n",
    "folder_path = \"data/crystal/lts/extxyz_files/\"\n",
    "\n",
    "\n",
    "pattern_prefix = f\"lts\"\n",
    "duplicates = find_duplicate_files(folder_path, pattern_prefix)\n",
    "\n",
    "if duplicates:\n",
    "    print(\"Duplicate files found:\")\n",
    "    for file1, file2 in duplicates:\n",
    "        print(f\"{file1} and {file2}\")\n",
    "else:\n",
    "    print(\"No duplicate files found.\")"
   ]
  },
  {
   "cell_type": "markdown",
   "metadata": {},
   "source": [
    "### Concatenate"
   ]
  },
  {
   "cell_type": "code",
   "execution_count": null,
   "metadata": {},
   "outputs": [
    {
     "name": "stdout",
     "output_type": "stream",
     "text": [
      "All .xyz files in 'data/crystal/lts/extxyz_files' have been concatenated into 'data/crystal/lts/lts_all.xyz'.\n"
     ]
    }
   ],
   "source": [
    "import os\n",
    "\n",
    "def concatenate_xyz_files(input_folder, output_file):\n",
    "    \"\"\"\n",
    "    Concatenate all .xyz files in a folder into a single .xyz file.\n",
    "\n",
    "    Parameters:\n",
    "        input_folder (str): Path to the folder containing .xyz files.\n",
    "        output_file (str): Path to the output .xyz file.\n",
    "    \"\"\"\n",
    "    # Ensure the output folder exists\n",
    "    os.makedirs(os.path.dirname(output_file), exist_ok=True)\n",
    "\n",
    "    with open(output_file, 'w') as outfile:\n",
    "        for file_name in sorted(os.listdir(input_folder)):\n",
    "            if file_name.endswith(\".xyz\"):\n",
    "                file_path = os.path.join(input_folder, file_name)\n",
    "\n",
    "                # Read the content of the current .xyz file\n",
    "                with open(file_path, 'r') as infile:\n",
    "                    content = infile.read()\n",
    "                \n",
    "                # Append content to the output file\n",
    "                outfile.write(content)\n",
    "\n",
    "    print(f\"All .xyz files in '{input_folder}' have been concatenated into '{output_file}'.\")\n",
    "\n",
    "# Example usage\n",
    "input_folder = \"data/crystal/lts/extxyz_files\"\n",
    "output_file = \"data/crystal/lts/concatenated_files/lts_all.xyz\"\n",
    "concatenate_xyz_files(input_folder, output_file)"
   ]
  },
  {
   "cell_type": "markdown",
   "metadata": {},
   "source": [
    "# Compare energies DFT/MACE "
   ]
  },
  {
   "cell_type": "markdown",
   "metadata": {},
   "source": [
    "## mace-mpa-0-medium.model"
   ]
  },
  {
   "cell_type": "code",
   "execution_count": null,
   "metadata": {},
   "outputs": [
    {
     "name": "stdout",
     "output_type": "stream",
     "text": [
      "Using float64 for MACECalculator, which is slower but more accurate. Recommended for geometry optimization.\n",
      "-0.89160769\n"
     ]
    }
   ],
   "source": [
    "ase_structure = Atoms(['S'],[[0.0, 0.0, 0.0]])\n",
    "sp_mace = SinglePoint(\n",
    "    struct=ase_structure.copy(),\n",
    "    arch=\"mace_mp\",\n",
    "    device=\"cpu\",\n",
    "    model_path=\"/Users/brunocamino/Desktop/UCL/mace_benchmark/models/mace-mpa-0-medium.model\",\n",
    "    calc_kwargs={\"default_dtype\": \"float64\",\"dispersion\":True},\n",
    "    properties=\"energy\",\n",
    ")\n",
    "\n",
    "init_energy = sp_mace.run()[\"energy\"]\n",
    "print(init_energy)"
   ]
  },
  {
   "cell_type": "code",
   "execution_count": null,
   "metadata": {},
   "outputs": [],
   "source": [
    "li_dft_energy = -7.4535580426043E+00*HARTREE_TO_EV\n",
    "ti_dft_energy = -8.4917384909564E+02*HARTREE_TO_EV\n",
    "s_dft_energy = -3.9804168854419E+02*HARTREE_TO_EV\n",
    "\n",
    "li_mace_energy = -0.29754725\n",
    "ti_mace_energy = -2.50054871\n",
    "s_mace_energy = -0.89160769\n"
   ]
  },
  {
   "cell_type": "code",
   "execution_count": null,
   "metadata": {},
   "outputs": [],
   "source": [
    "energies = np.loadtxt(\"data/lts/pt_model/all_energies.csv\", delimiter=\",\", skiprows=1)\n",
    "\n",
    "num_sites = 72\n",
    "\n",
    "# Extract the two columns separately\n",
    "dft_energies = energies[:, 0]  # First column\n",
    "mace_energies = energies[:, 1]  # Second column\n",
    "\n",
    "dft_energies_form = (dft_energies - (li_dft_energy*18 + \n",
    "                                    ti_dft_energy*9 + s_dft_energy*27))/num_sites\n",
    "\n",
    "mace_energies_form = (mace_energies - (li_mace_energy*18 + \n",
    "                                    ti_mace_energy*9 + s_mace_energy*27))/num_sites\n",
    "\n",
    "keep_indices = np.where(dft_energies_form > -6)[0]\n",
    "\n",
    "dft_energies_form = dft_energies_form[keep_indices]\n",
    "mace_energies_form = mace_energies_form[keep_indices]"
   ]
  },
  {
   "cell_type": "code",
   "execution_count": null,
   "metadata": {},
   "outputs": [
    {
     "data": {
      "text/plain": [
       "array([-3.70384493, -3.69935029, -3.69919882, ..., -3.25800319,\n",
       "       -3.22881542, -3.21714639])"
      ]
     },
     "metadata": {},
     "output_type": "display_data"
    }
   ],
   "source": [
    "np.sort(dft_energies_form)"
   ]
  },
  {
   "cell_type": "code",
   "execution_count": null,
   "metadata": {},
   "outputs": [
    {
     "name": "stdout",
     "output_type": "stream",
     "text": [
      "MSE: 2.514e-01\n",
      "RMSE: 5.014e-01\n",
      "Percentage MSE: 1.110e+00 %\n",
      "Max Absolute Error: 6.001e-01\n",
      "Max Percentage Error: 1.230e+01 %\n"
     ]
    }
   ],
   "source": [
    "get_errors(dft_energies_form,mace_energies_form)\n"
   ]
  },
  {
   "cell_type": "code",
   "execution_count": null,
   "metadata": {},
   "outputs": [
    {
     "name": "stdout",
     "output_type": "stream",
     "text": [
      "Spearman's Rank Correlation: 0.98491\n",
      "Kendall's Tau: 0.91303\n"
     ]
    }
   ],
   "source": [
    "get_rankings(dft_energies_form,mace_energies_form)"
   ]
  },
  {
   "cell_type": "markdown",
   "metadata": {},
   "source": [
    "### Parity plot"
   ]
  },
  {
   "cell_type": "code",
   "execution_count": null,
   "metadata": {},
   "outputs": [
    {
     "data": {
      "image/png": "[encoded data removed]",
      "text/plain": [
       "<Figure size 500x500 with 1 Axes>"
      ]
     },
     "metadata": {},
     "output_type": "display_data"
    }
   ],
   "source": [
    "# Create the parity plot\n",
    "plt.figure(figsize=(5,5))\n",
    "\n",
    "plt.scatter(dft_energies_form, mace_energies_form, color='blue', alpha=0.6, label=\"Data Points\")\n",
    "\n",
    "# Plot the y = x reference line\n",
    "min_val = min(np.min(dft_energies_form), np.min(mace_energies_form))\n",
    "max_val = max(np.max(dft_energies_form), np.max(mace_energies_form))\n",
    "plt.plot([min_val, max_val], [min_val, max_val], color='red', linestyle='--')\n",
    "\n",
    "# Labels and title\n",
    "plt.xlabel(\"DFT energies\")\n",
    "plt.ylabel(\"MACE energies\")\n",
    "plt.title(\"Parity Plot of Energies\")\n",
    "plt.legend()\n",
    "plt.grid(True)\n",
    "\n",
    "# Show the plot\n",
    "plt.show()"
   ]
  },
  {
   "cell_type": "markdown",
   "metadata": {},
   "source": [
    "### Residual Plot of Energies"
   ]
  },
  {
   "cell_type": "code",
   "execution_count": null,
   "metadata": {},
   "outputs": [
    {
     "data": {
      "image/png": "[encoded data removed]",
      "text/plain": [
       "<Figure size 500x500 with 1 Axes>"
      ]
     },
     "metadata": {},
     "output_type": "display_data"
    }
   ],
   "source": [
    "plt.figure(figsize=(5,5))\n",
    "residuals = mace_energies_form - dft_energies_form\n",
    "plt.scatter(dft_energies_form, residuals, color='blue', alpha=0.6, label=\"Residuals\")\n",
    "\n",
    "plt.axhline(0, color='red', linestyle='--', label=\"Zero Error\")\n",
    "\n",
    "plt.xlabel(\"DFT energies\")\n",
    "plt.ylabel(\"MACE energy difference (MACE - DFT)\")\n",
    "plt.title(\"Residual Plot of Energies\")\n",
    "plt.legend()\n",
    "plt.grid(True)\n",
    "\n",
    "plt.show()"
   ]
  },
  {
   "cell_type": "markdown",
   "metadata": {},
   "source": [
    "## mace-mpa-0-medium.model - dispersion"
   ]
  },
  {
   "cell_type": "code",
   "execution_count": 26,
   "metadata": {},
   "outputs": [
    {
     "name": "stdout",
     "output_type": "stream",
     "text": [
      "Using float64 for MACECalculator, which is slower but more accurate. Recommended for geometry optimization.\n",
      "Using TorchDFTD3Calculator for D3 dispersion corrections\n",
      "-0.89160769\n"
     ]
    }
   ],
   "source": [
    "ase_structure = Atoms(['S'],[[0.0, 0.0, 0.0]])\n",
    "sp_mace = SinglePoint(\n",
    "    struct=ase_structure.copy(),\n",
    "    arch=\"mace_mp\",\n",
    "    device=\"cpu\",\n",
    "    model_path=\"/Users/brunocamino/Desktop/UCL/mace_benchmark/models/mace-mpa-0-medium.model\",\n",
    "    calc_kwargs={\"default_dtype\": \"float64\",\"dispersion\":True},\n",
    "    properties=\"energy\",\n",
    ")\n",
    "\n",
    "init_energy = sp_mace.run()[\"energy\"]\n",
    "print(init_energy)"
   ]
  },
  {
   "cell_type": "code",
   "execution_count": null,
   "metadata": {},
   "outputs": [],
   "source": [
    "li_dft_energy = -7.4535580426043E+00*HARTREE_TO_EV\n",
    "ti_dft_energy = -8.4917384909564E+02*HARTREE_TO_EV\n",
    "s_dft_energy = -3.9804168854419E+02*HARTREE_TO_EV\n",
    "\n",
    "li_mace_energy = -0.29754725\n",
    "ti_mace_energy = -2.50054871\n",
    "s_mace_energy = -0.89160769\n"
   ]
  },
  {
   "cell_type": "code",
   "execution_count": 27,
   "metadata": {},
   "outputs": [],
   "source": [
    "energies = np.loadtxt(\"data/lts/pt_model/d3/all_energies_d3.csv\", delimiter=\",\", skiprows=1)\n",
    "\n",
    "num_sites = 72\n",
    "\n",
    "# Extract the two columns separately\n",
    "dft_energies = energies[:, 0]  # First column\n",
    "mace_energies = energies[:, 1]  # Second column\n",
    "\n",
    "dft_energies_form = (dft_energies - (li_dft_energy*18 + \n",
    "                                    ti_dft_energy*9 + s_dft_energy*27))/num_sites\n",
    "\n",
    "mace_energies_form = (mace_energies - (li_mace_energy*18 + \n",
    "                                    ti_mace_energy*9 + s_mace_energy*27))/num_sites\n",
    "\n",
    "keep_indices = np.where(dft_energies_form > -6)[0]\n",
    "\n",
    "dft_energies_form = dft_energies_form[keep_indices]\n",
    "mace_energies_form = mace_energies_form[keep_indices]"
   ]
  },
  {
   "cell_type": "code",
   "execution_count": 28,
   "metadata": {},
   "outputs": [
    {
     "name": "stdout",
     "output_type": "stream",
     "text": [
      "MSE: 1.371e-02\n",
      "RMSE: 1.171e-01\n",
      "Percentage MSE: 1.076e-01 %\n",
      "Max Absolute Error: 2.546e-01\n",
      "Max Percentage Error: 7.063e+00 %\n"
     ]
    }
   ],
   "source": [
    "get_errors(dft_energies_form,mace_energies_form)\n"
   ]
  },
  {
   "cell_type": "code",
   "execution_count": 29,
   "metadata": {},
   "outputs": [
    {
     "name": "stdout",
     "output_type": "stream",
     "text": [
      "Spearman's Rank Correlation: 0.93017\n",
      "Kendall's Tau: 0.83664\n"
     ]
    }
   ],
   "source": [
    "get_rankings(dft_energies_form,mace_energies_form)"
   ]
  },
  {
   "cell_type": "markdown",
   "metadata": {},
   "source": [
    "### Parity plot"
   ]
  },
  {
   "cell_type": "code",
   "execution_count": 30,
   "metadata": {},
   "outputs": [
    {
     "data": {
      "image/png": "[encoded data removed]",
      "text/plain": [
       "<Figure size 500x500 with 1 Axes>"
      ]
     },
     "metadata": {},
     "output_type": "display_data"
    }
   ],
   "source": [
    "# Create the parity plot\n",
    "plt.figure(figsize=(5,5))\n",
    "\n",
    "plt.scatter(dft_energies_form, mace_energies_form, color='blue', alpha=0.6, label=\"Data Points\")\n",
    "\n",
    "# Plot the y = x reference line\n",
    "min_val = min(np.min(dft_energies_form), np.min(mace_energies_form))\n",
    "max_val = max(np.max(dft_energies_form), np.max(mace_energies_form))\n",
    "plt.plot([min_val, max_val], [min_val, max_val], color='red', linestyle='--')\n",
    "\n",
    "# Labels and title\n",
    "plt.xlabel(\"DFT energies\")\n",
    "plt.ylabel(\"MACE energies\")\n",
    "plt.title(\"Parity Plot of Energies\")\n",
    "plt.legend()\n",
    "plt.grid(True)\n",
    "\n",
    "# Show the plot\n",
    "plt.show()"
   ]
  },
  {
   "cell_type": "markdown",
   "metadata": {},
   "source": [
    "### Residual Plot of Energies"
   ]
  },
  {
   "cell_type": "code",
   "execution_count": 31,
   "metadata": {},
   "outputs": [
    {
     "data": {
      "image/png": "[encoded data removed]",
      "text/plain": [
       "<Figure size 500x500 with 1 Axes>"
      ]
     },
     "metadata": {},
     "output_type": "display_data"
    }
   ],
   "source": [
    "plt.figure(figsize=(5,5))\n",
    "residuals = mace_energies_form - dft_energies_form\n",
    "plt.scatter(dft_energies_form, residuals, color='blue', alpha=0.6, label=\"Residuals\")\n",
    "\n",
    "plt.axhline(0, color='red', linestyle='--', label=\"Zero Error\")\n",
    "\n",
    "plt.xlabel(\"DFT energies\")\n",
    "plt.ylabel(\"MACE energy difference (MACE - DFT)\")\n",
    "plt.title(\"Residual Plot of Energies\")\n",
    "plt.legend()\n",
    "plt.grid(True)\n",
    "\n",
    "plt.show()"
   ]
  },
  {
   "cell_type": "code",
   "execution_count": null,
   "metadata": {},
   "outputs": [
    {
     "data": {
      "text/plain": [
       "0.5010544575923563"
      ]
     },
     "metadata": {},
     "output_type": "display_data"
    }
   ],
   "source": [
    "residuals = mace_energies_form - dft_energies_form\n",
    "np.mean(residuals)"
   ]
  },
  {
   "cell_type": "code",
   "execution_count": null,
   "metadata": {},
   "outputs": [
    {
     "data": {
      "text/plain": [
       "-4.2580053746024715"
      ]
     },
     "metadata": {},
     "output_type": "display_data"
    }
   ],
   "source": [
    "np.mean(mace_energies_form)"
   ]
  },
  {
   "cell_type": "code",
   "execution_count": null,
   "metadata": {},
   "outputs": [],
   "source": [
    "all_structures = read('data/crystal/lts/concatenated_files/lts_all.xyz',\":\")"
   ]
  },
  {
   "cell_type": "code",
   "execution_count": null,
   "metadata": {},
   "outputs": [
    {
     "data": {
      "text/plain": [
       "<Popen: returncode: None args: ['/Users/brunocamino/miniconda3/envs/mace-tes...>"
      ]
     },
     "metadata": {},
     "output_type": "display_data"
    }
   ],
   "source": [
    "view(all_structures[6398])"
   ]
  },
  {
   "cell_type": "code",
   "execution_count": null,
   "metadata": {},
   "outputs": [
    {
     "data": {
      "text/plain": [
       "array([    0,     1,     2, ..., 24029, 24030, 24031])"
      ]
     },
     "metadata": {},
     "output_type": "display_data"
    }
   ],
   "source": [
    "np.where(dft_energies_form > -6)[0]"
   ]
  },
  {
   "cell_type": "code",
   "execution_count": null,
   "metadata": {},
   "outputs": [
    {
     "data": {
      "text/plain": [
       "24032"
      ]
     },
     "metadata": {},
     "output_type": "display_data"
    }
   ],
   "source": [
    "len(dft_energies_form)"
   ]
  },
  {
   "cell_type": "markdown",
   "metadata": {},
   "source": [
    "### Errors"
   ]
  },
  {
   "cell_type": "code",
   "execution_count": null,
   "metadata": {},
   "outputs": [
    {
     "data": {
      "text/plain": [
       "array([-754067.3855685, -742760.6010391, -742685.5482815, ...,\n",
       "       -504294.3297341, -504292.2282146, -504291.3880448])"
      ]
     },
     "metadata": {},
     "output_type": "display_data"
    }
   ],
   "source": [
    "np.sort(dft_energies)"
   ]
  },
  {
   "cell_type": "code",
   "execution_count": null,
   "metadata": {},
   "outputs": [
    {
     "name": "stdout",
     "output_type": "stream",
     "text": [
      "Using float64 for MACECalculator, which is slower but more accurate. Recommended for geometry optimization.\n",
      "-0.89160769\n"
     ]
    }
   ],
   "source": [
    "ase_structure = Atoms(['S'],[[0.0, 0.0, 0.0]])\n",
    "sp_mace = SinglePoint(\n",
    "    struct=ase_structure.copy(),\n",
    "    arch=\"mace_mp\",\n",
    "    device=\"cpu\",\n",
    "    model_path=\"/Users/brunocamino/Desktop/UCL/mace_benchmark/models/mace-mpa-0-medium.model\",\n",
    "    calc_kwargs={\"default_dtype\": \"float64\",\"dispersion\":True},\n",
    "    properties=\"energy\",\n",
    ")\n",
    "\n",
    "init_energy = sp_mace.run()[\"energy\"]\n",
    "print(init_energy)"
   ]
  },
  {
   "cell_type": "code",
   "execution_count": 7,
   "metadata": {},
   "outputs": [],
   "source": [
    "li_dft_energy = -7.4535580426043E+00*HARTREE_TO_EV\n",
    "ti_dft_energy = -8.4917384909564E+02*HARTREE_TO_EV\n",
    "s_dft_energy = -3.9804168854419E+02*HARTREE_TO_EV\n",
    "\n",
    "li_mace_energy = -0.29754725\n",
    "ti_mace_energy = -2.50054871\n",
    "s_mace_energy = -0.89160769\n"
   ]
  },
  {
   "cell_type": "code",
   "execution_count": 24,
   "metadata": {},
   "outputs": [],
   "source": [
    "energies = np.loadtxt(\"data/lts/pt_model/all_energies.csv\", delimiter=\",\", skiprows=1)\n",
    "\n",
    "num_sites = 72\n",
    "\n",
    "# Extract the two columns separately\n",
    "dft_energies = energies[:, 0]  # First column\n",
    "mace_energies = energies[:, 1]  # Second column\n",
    "\n",
    "dft_energies_form = (dft_energies - (li_dft_energy*18 + \n",
    "                                    ti_dft_energy*9 + s_dft_energy*27))/num_sites\n",
    "\n",
    "mace_energies_form = (mace_energies - (li_mace_energy*18 + \n",
    "                                    ti_mace_energy*9 + s_mace_energy*27))/num_sites\n",
    "\n",
    "keep_indices = np.where(dft_energies_form > -6)[0]\n",
    "\n",
    "dft_energies_form = dft_energies_form[keep_indices]\n",
    "mace_energies_form = mace_energies_form[keep_indices]"
   ]
  },
  {
   "cell_type": "code",
   "execution_count": 25,
   "metadata": {},
   "outputs": [
    {
     "data": {
      "text/plain": [
       "array([-3.70384493, -3.69935029, -3.69919882, ..., -3.25800319,\n",
       "       -3.22881542, -3.21714639])"
      ]
     },
     "execution_count": 25,
     "metadata": {},
     "output_type": "execute_result"
    }
   ],
   "source": [
    "np.sort(dft_energies_form)"
   ]
  },
  {
   "cell_type": "code",
   "execution_count": 9,
   "metadata": {},
   "outputs": [
    {
     "name": "stdout",
     "output_type": "stream",
     "text": [
      "MSE: 2.514e-01\n",
      "RMSE: 5.014e-01\n",
      "Percentage MSE: 1.110e+00 %\n",
      "Max Absolute Error: 6.001e-01\n",
      "Max Percentage Error: 1.230e+01 %\n"
     ]
    }
   ],
   "source": [
    "get_errors(dft_energies_form,mace_energies_form)\n"
   ]
  },
  {
   "cell_type": "code",
   "execution_count": 10,
   "metadata": {},
   "outputs": [
    {
     "name": "stdout",
     "output_type": "stream",
     "text": [
      "Spearman's Rank Correlation: 0.98491\n",
      "Kendall's Tau: 0.91303\n"
     ]
    }
   ],
   "source": [
    "get_rankings(dft_energies_form,mace_energies_form)"
   ]
  },
  {
   "cell_type": "markdown",
   "metadata": {},
   "source": [
    "### Parity plot"
   ]
  },
  {
   "cell_type": "code",
   "execution_count": 19,
   "metadata": {},
   "outputs": [
    {
     "data": {
      "image/png": "[encoded data removed]",
      "text/plain": [
       "<Figure size 500x500 with 1 Axes>"
      ]
     },
     "metadata": {},
     "output_type": "display_data"
    }
   ],
   "source": [
    "# Create the parity plot\n",
    "plt.figure(figsize=(5,5))\n",
    "\n",
    "plt.scatter(dft_energies_form, mace_energies_form, color='blue', alpha=0.6, label=\"Data Points\")\n",
    "\n",
    "# Plot the y = x reference line\n",
    "min_val = min(np.min(dft_energies_form), np.min(mace_energies_form))\n",
    "max_val = max(np.max(dft_energies_form), np.max(mace_energies_form))\n",
    "plt.plot([min_val, max_val], [min_val, max_val], color='red', linestyle='--')\n",
    "\n",
    "# Labels and title\n",
    "plt.xlabel(\"DFT energies\")\n",
    "plt.ylabel(\"MACE energies\")\n",
    "plt.title(\"Parity Plot of Energies\")\n",
    "plt.legend()\n",
    "plt.grid(True)\n",
    "\n",
    "# Show the plot\n",
    "plt.show()"
   ]
  },
  {
   "cell_type": "markdown",
   "metadata": {},
   "source": [
    "### Residual Plot of Energies"
   ]
  },
  {
   "cell_type": "code",
   "execution_count": 21,
   "metadata": {},
   "outputs": [
    {
     "data": {
      "image/png": "[encoded data removed]",
      "text/plain": [
       "<Figure size 500x500 with 1 Axes>"
      ]
     },
     "metadata": {},
     "output_type": "display_data"
    }
   ],
   "source": [
    "plt.figure(figsize=(5,5))\n",
    "residuals = mace_energies_form - dft_energies_form\n",
    "plt.scatter(dft_energies_form, residuals, color='blue', alpha=0.6, label=\"Residuals\")\n",
    "\n",
    "plt.axhline(0, color='red', linestyle='--', label=\"Zero Error\")\n",
    "\n",
    "plt.xlabel(\"DFT energies\")\n",
    "plt.ylabel(\"MACE energy difference (MACE - DFT)\")\n",
    "plt.title(\"Residual Plot of Energies\")\n",
    "plt.legend()\n",
    "plt.grid(True)\n",
    "\n",
    "plt.show()"
   ]
  },
  {
   "cell_type": "code",
   "execution_count": 17,
   "metadata": {},
   "outputs": [
    {
     "data": {
      "text/plain": [
       "0.5010544575923563"
      ]
     },
     "execution_count": 17,
     "metadata": {},
     "output_type": "execute_result"
    }
   ],
   "source": [
    "residuals = mace_energies_form - dft_energies_form\n",
    "np.mean(residuals)"
   ]
  },
  {
   "cell_type": "code",
   "execution_count": 16,
   "metadata": {},
   "outputs": [
    {
     "data": {
      "text/plain": [
       "-4.2580053746024715"
      ]
     },
     "execution_count": 16,
     "metadata": {},
     "output_type": "execute_result"
    }
   ],
   "source": [
    "np.mean(mace_energies_form)"
   ]
  },
  {
   "cell_type": "code",
   "execution_count": 49,
   "metadata": {},
   "outputs": [],
   "source": [
    "all_structures = read('data/crystal/lts/concatenated_files/lts_all.xyz',\":\")"
   ]
  },
  {
   "cell_type": "code",
   "execution_count": 54,
   "metadata": {},
   "outputs": [
    {
     "data": {
      "text/plain": [
       "<Popen: returncode: None args: ['/Users/brunocamino/miniconda3/envs/mace-tes...>"
      ]
     },
     "execution_count": 54,
     "metadata": {},
     "output_type": "execute_result"
    }
   ],
   "source": [
    "view(all_structures[6398])"
   ]
  },
  {
   "cell_type": "code",
   "execution_count": 86,
   "metadata": {},
   "outputs": [
    {
     "data": {
      "text/plain": [
       "array([    0,     1,     2, ..., 24029, 24030, 24031])"
      ]
     },
     "execution_count": 86,
     "metadata": {},
     "output_type": "execute_result"
    }
   ],
   "source": [
    "np.where(dft_energies_form > -6)[0]"
   ]
  },
  {
   "cell_type": "code",
   "execution_count": 65,
   "metadata": {},
   "outputs": [
    {
     "data": {
      "text/plain": [
       "24032"
      ]
     },
     "execution_count": 65,
     "metadata": {},
     "output_type": "execute_result"
    }
   ],
   "source": [
    "len(dft_energies_form)"
   ]
  },
  {
   "cell_type": "markdown",
   "metadata": {},
   "source": [
    "### Errors"
   ]
  },
  {
   "cell_type": "code",
   "execution_count": 72,
   "metadata": {},
   "outputs": [
    {
     "data": {
      "text/plain": [
       "array([-754067.3855685, -742760.6010391, -742685.5482815, ...,\n",
       "       -504294.3297341, -504292.2282146, -504291.3880448])"
      ]
     },
     "execution_count": 72,
     "metadata": {},
     "output_type": "execute_result"
    }
   ],
   "source": [
    "np.sort(dft_energies)"
   ]
  }
 ],
 "metadata": {
  "kernelspec": {
   "display_name": "mace-test",
   "language": "python",
   "name": "python3"
  },
  "language_info": {
   "codemirror_mode": {
    "name": "ipython",
    "version": 3
   },
   "file_extension": ".py",
   "mimetype": "text/x-python",
   "name": "python",
   "nbconvert_exporter": "python",
   "pygments_lexer": "ipython3",
   "version": "3.11.10"
  }
 },
 "nbformat": 4,
 "nbformat_minor": 2
}
